{
  "nbformat": 4,
  "nbformat_minor": 0,
  "metadata": {
    "colab": {
      "provenance": [],
      "authorship_tag": "ABX9TyPE3vAzIwdhuQ43O0VwRCZi",
      "include_colab_link": true
    },
    "kernelspec": {
      "name": "python3",
      "display_name": "Python 3"
    },
    "language_info": {
      "name": "python"
    }
  },
  "cells": [
    {
      "cell_type": "markdown",
      "metadata": {
        "id": "view-in-github",
        "colab_type": "text"
      },
      "source": [
        "<a href=\"https://colab.research.google.com/github/AlexShen21/summer2023/blob/main/SolarRadiation.ipynb\" target=\"_parent\"><img src=\"https://colab.research.google.com/assets/colab-badge.svg\" alt=\"Open In Colab\"/></a>"
      ]
    },
    {
      "cell_type": "code",
      "execution_count": 54,
      "metadata": {
        "colab": {
          "base_uri": "https://localhost:8080/",
          "height": 785
        },
        "id": "MWdhJGkZ_Ddb",
        "outputId": "3b923c2a-0340-44fc-ca0c-e5e9538261ea"
      },
      "outputs": [
        {
          "output_type": "stream",
          "name": "stdout",
          "text": [
            "      JDA  T_LST  TaC_60m  spd_60m  spdV60m  dirV60m  sdir60m  e__10m  rh_10m  \\\n",
            "0     152  00:00    23.34     4.26     4.18   287.09    11.07  2.4556   82.26   \n",
            "1     152  00:15    23.09     2.93     2.85   294.69    13.67  2.4273   83.16   \n",
            "2     152  00:30    22.59     5.70     5.45   275.02    16.98  2.4273   84.91   \n",
            "3     152  00:45    20.75     5.57     5.34   291.38    16.56  2.4687   95.89   \n",
            "4     152  01:00    20.81     3.72     3.68   262.72     8.55  2.4645   97.18   \n",
            "...   ...    ...      ...      ...      ...      ...      ...     ...     ...   \n",
            "8638  243  22:45    22.43     4.37     4.32   255.56     8.99  2.2679   84.46   \n",
            "8639  243  23:00    22.36     4.86     4.83   259.73     7.03  2.2272   83.58   \n",
            "8640  243  23:15    22.20     5.23     5.20   264.08     5.70  2.2159   83.37   \n",
            "8641  243  23:30    21.97     4.76     4.71   261.08     8.29  2.2221   84.38   \n",
            "8642  243  23:45    21.75     4.65     4.62   262.98     7.12  2.2204   85.72   \n",
            "\n",
            "      Tdp_10m  ...  baroKPa  radW/m2  netW/m2  Ta_diff  asp_60m  asp_10m  \\\n",
            "0       20.76  ...    99.41    -0.58   -19.81   -0.007    100.0    100.0   \n",
            "1       20.57  ...    99.37    -0.54   -12.25   -0.007    100.0    100.0   \n",
            "2       20.57  ...    99.43    -0.38    -5.95   -0.006    100.0    100.0   \n",
            "3       20.85  ...    99.43     0.12    -4.18   -0.007    100.0    100.0   \n",
            "4       20.82  ...    99.40     0.08    -4.25   -0.004    100.0    100.0   \n",
            "...       ...  ...      ...      ...      ...      ...      ...      ...   \n",
            "8638    19.47  ...    99.62    -0.53   -22.07    0.011    100.0    100.0   \n",
            "8639    19.18  ...    99.62    -0.42   -24.75    0.010    100.0    100.0   \n",
            "8640    19.10  ...    99.62    -0.47   -27.84    0.009    100.0    100.0   \n",
            "8641    19.15  ...    99.62    -0.53   -28.68    0.008    100.0    100.0   \n",
            "8642    19.13  ...    99.62    -0.65   -26.83    0.009    100.0    100.0   \n",
            "\n",
            "      battVDC  precpmm  T_LST.1  JDA.1  \n",
            "0      12.826      0.0    00:00    152  \n",
            "1      12.825      0.2    00:15    152  \n",
            "2      12.832      1.4    00:30    152  \n",
            "3      12.832      4.4    00:45    152  \n",
            "4      12.838      0.0    01:00    152  \n",
            "...       ...      ...      ...    ...  \n",
            "8638   12.896      0.0    22:45    243  \n",
            "8639   12.903      0.0    23:00    243  \n",
            "8640   12.909      0.0    23:15    243  \n",
            "8641   12.912      0.0    23:30    243  \n",
            "8642   12.916      0.0    23:45    243  \n",
            "\n",
            "[8643 rows x 25 columns]\n"
          ]
        },
        {
          "output_type": "execute_result",
          "data": {
            "text/plain": [
              "'\\nwith open(\"Solar_Radiation.csv\", mode= \\'r\\') as solar_rad:\\n\\treader = csv.reader(solar_rad)\\n\\tSolar_Data_List = list(reader)\\n\\nprint(\"\\n \\n\")\\n#print(Solar_Data_List[1][0][0:3])\\nprint(\"\\n \\n\")\\n#print(Solar_Data_List[1][0][123:130])\\n\\nJDA_TimeStamp_RAD_List = []\\n\\nfor data in Solar_Data_List[7295:15936]:\\n\\tJDA_TimeStamp_RAD_List.append([data[0][0:3], data[0][4:9], data[0][123:130]])\\n'"
            ],
            "application/vnd.google.colaboratory.intrinsic+json": {
              "type": "string"
            }
          },
          "metadata": {},
          "execution_count": 54
        }
      ],
      "source": [
        "import csv\n",
        "import pandas as pd\n",
        "\n",
        "\n",
        "#Using pandas to preprocess\n",
        "solar_rad_file = \"https://raw.githubusercontent.com/waggle-sensor/summer2023/main/Shen/Data/Solar_Radiation.csv\"\n",
        "\n",
        "#load in columns\n",
        "\n",
        "\n",
        "raw_csv_data = pd.read_csv(solar_rad_file)\n",
        "\n",
        "\n",
        "\n",
        "df=raw_csv_data.copy()\n",
        "\n",
        "\n",
        "\n",
        "print(df)\n",
        "\n",
        "\n",
        "\n",
        "# image_dir = '/path/to/images'  # replace with the path to your images\n",
        "# image_files = sorted([f for f in os.listdir(image_dir) if f.endswith('.jpg/png/jpeg')])\n",
        "\n",
        "\n",
        "#Using CSV to preprocess\n",
        "\"\"\"\n",
        "with open(\"Solar_Radiation.csv\", mode= 'r') as solar_rad:\n",
        "\treader = csv.reader(solar_rad)\n",
        "\tSolar_Data_List = list(reader)\n",
        "\n",
        "print(\"\\n \\n\")\n",
        "#print(Solar_Data_List[1][0][0:3])\n",
        "print(\"\\n \\n\")\n",
        "#print(Solar_Data_List[1][0][123:130])\n",
        "\n",
        "JDA_TimeStamp_RAD_List = []\n",
        "\n",
        "for data in Solar_Data_List[7295:15936]:\n",
        "\tJDA_TimeStamp_RAD_List.append([data[0][0:3], data[0][4:9], data[0][123:130]])\n",
        "\"\"\"\n",
        "\n",
        "\n",
        "#print(JDA_TimeStamp_RAD_List)\n",
        "\n",
        "\n"
      ]
    }
  ]
}