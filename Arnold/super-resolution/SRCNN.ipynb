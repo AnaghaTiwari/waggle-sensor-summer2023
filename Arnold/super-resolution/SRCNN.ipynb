{
 "cells": [
  {
   "cell_type": "code",
   "execution_count": 1,
   "metadata": {},
   "outputs": [],
   "source": [
    "import torch\n",
    "import numpy\n",
    "import matplotlib.pyplot as plt\n",
    "from dataset import Dataset\n",
    "from model import SRCNN"
   ]
  },
  {
   "cell_type": "code",
   "execution_count": 2,
   "metadata": {},
   "outputs": [
    {
     "data": {
      "text/plain": [
       "device(type='cuda')"
      ]
     },
     "execution_count": 2,
     "metadata": {},
     "output_type": "execute_result"
    }
   ],
   "source": [
    "device =torch.device(\"cuda\" if torch.cuda.is_available() else \"cpu\")\n",
    "device"
   ]
  },
  {
   "cell_type": "code",
   "execution_count": 3,
   "metadata": {},
   "outputs": [
    {
     "data": {
      "text/plain": [
       "SRCNN(\n",
       "  (conv1): Conv2d(3, 64, kernel_size=(9, 9), stride=(1, 1), padding=(4, 4))\n",
       "  (conv2): Conv2d(64, 32, kernel_size=(1, 1), stride=(1, 1))\n",
       "  (conv3): Conv2d(32, 3, kernel_size=(5, 5), stride=(1, 1), padding=(2, 2))\n",
       "  (relu): ReLU(inplace=True)\n",
       ")"
      ]
     },
     "execution_count": 3,
     "metadata": {},
     "output_type": "execute_result"
    }
   ],
   "source": [
    "from model import SRCNN\n",
    "c = 3\n",
    "model  = SRCNN(c)\n",
    "model.to(device)\n",
    "\n",
    "\n"
   ]
  },
  {
   "cell_type": "code",
   "execution_count": 4,
   "metadata": {},
   "outputs": [
    {
     "name": "stdout",
     "output_type": "stream",
     "text": [
      "torch.Size([3, 64, 64])\n"
     ]
    },
    {
     "data": {
      "image/png": "[encoded data removed]",
      "text/plain": [
       "<Figure size 1000x500 with 4 Axes>"
      ]
     },
     "metadata": {},
     "output_type": "display_data"
    }
   ],
   "source": [
    "train = Dataset(\"./traffic/trainLR/\",\"./traffic/trainHR/\" ,1,2)\n",
    "print(train[0][0].shape)\n",
    "\n",
    "test = Dataset(\"./traffic/validLR/\", \"./traffic/validHR/\", 801,2,False)\n",
    "train_loader = torch.utils.data.DataLoader(train, batch_size=2, shuffle=True)\n",
    "for lr, hr in train_loader:\n",
    "    fig, axes = plt.subplots(2, 2, figsize=(10, 5))\n",
    "\n",
    "    # Plot the first image on the left\n",
    "    axes[0][0].imshow(lr[0].permute(1,2,0))\n",
    "    axes[0][0].axis('off')\n",
    "\n",
    "    # Plot the second image on the right\n",
    "    axes[0][1].imshow(hr[0].permute(1,2,0))\n",
    "    axes[0][1].axis('off')\n",
    "    \n",
    "    axes[1][0].imshow(lr[1].permute(1,2,0))\n",
    "    axes[1][0].axis('off')\n",
    "\n",
    "    # Plot the second image on the right\n",
    "    axes[1][1].imshow(hr[1].permute(1,2,0))\n",
    "    axes[1][1].axis('off')\n",
    "\n",
    "    # Show the images side by side\n",
    "    plt.show()\n",
    "    break"
   ]
  },
  {
   "cell_type": "code",
   "execution_count": 5,
   "metadata": {},
   "outputs": [],
   "source": [
    "#hyperparameters\n",
    "lr = 0.0001\n",
    "epochs = 10\n",
    "batch_size = 128\n",
    "criterion = torch.nn.MSELoss()\n",
    "optimizer = torch.optim.Adam(params=model.parameters(), lr=lr)\n",
    "testloader = torch.utils.data.DataLoader(test, batch_size=batch_size, shuffle=False)\n",
    "\n"
   ]
  },
  {
   "cell_type": "code",
   "execution_count": 6,
   "metadata": {},
   "outputs": [
    {
     "name": "stdout",
     "output_type": "stream",
     "text": [
      "0\n"
     ]
    },
    {
     "ename": "KeyboardInterrupt",
     "evalue": "",
     "output_type": "error",
     "traceback": [
      "\u001b[1;31m---------------------------------------------------------------------------\u001b[0m",
      "\u001b[1;31mKeyboardInterrupt\u001b[0m                         Traceback (most recent call last)",
      "Cell \u001b[1;32mIn[6], line 7\u001b[0m\n\u001b[0;32m      5\u001b[0m \u001b[39mfor\u001b[39;00m epoch \u001b[39min\u001b[39;00m \u001b[39mrange\u001b[39m(epochs):\n\u001b[0;32m      6\u001b[0m     \u001b[39mprint\u001b[39m(epoch)\n\u001b[1;32m----> 7\u001b[0m     \u001b[39mfor\u001b[39;00m i, (lr,hr) \u001b[39min\u001b[39;00m \u001b[39menumerate\u001b[39m(train_loader):\n\u001b[0;32m      8\u001b[0m         lr \u001b[39m=\u001b[39m lr\u001b[39m.\u001b[39mto(device)\n\u001b[0;32m      9\u001b[0m         hr \u001b[39m=\u001b[39m hr\u001b[39m.\u001b[39mto(device)\n",
      "File \u001b[1;32mc:\\Users\\alxto\\anaconda3\\envs\\superres\\Lib\\site-packages\\torch\\utils\\data\\dataloader.py:633\u001b[0m, in \u001b[0;36m_BaseDataLoaderIter.__next__\u001b[1;34m(self)\u001b[0m\n\u001b[0;32m    630\u001b[0m \u001b[39mif\u001b[39;00m \u001b[39mself\u001b[39m\u001b[39m.\u001b[39m_sampler_iter \u001b[39mis\u001b[39;00m \u001b[39mNone\u001b[39;00m:\n\u001b[0;32m    631\u001b[0m     \u001b[39m# TODO(https://github.com/pytorch/pytorch/issues/76750)\u001b[39;00m\n\u001b[0;32m    632\u001b[0m     \u001b[39mself\u001b[39m\u001b[39m.\u001b[39m_reset()  \u001b[39m# type: ignore[call-arg]\u001b[39;00m\n\u001b[1;32m--> 633\u001b[0m data \u001b[39m=\u001b[39m \u001b[39mself\u001b[39;49m\u001b[39m.\u001b[39;49m_next_data()\n\u001b[0;32m    634\u001b[0m \u001b[39mself\u001b[39m\u001b[39m.\u001b[39m_num_yielded \u001b[39m+\u001b[39m\u001b[39m=\u001b[39m \u001b[39m1\u001b[39m\n\u001b[0;32m    635\u001b[0m \u001b[39mif\u001b[39;00m \u001b[39mself\u001b[39m\u001b[39m.\u001b[39m_dataset_kind \u001b[39m==\u001b[39m _DatasetKind\u001b[39m.\u001b[39mIterable \u001b[39mand\u001b[39;00m \\\n\u001b[0;32m    636\u001b[0m         \u001b[39mself\u001b[39m\u001b[39m.\u001b[39m_IterableDataset_len_called \u001b[39mis\u001b[39;00m \u001b[39mnot\u001b[39;00m \u001b[39mNone\u001b[39;00m \u001b[39mand\u001b[39;00m \\\n\u001b[0;32m    637\u001b[0m         \u001b[39mself\u001b[39m\u001b[39m.\u001b[39m_num_yielded \u001b[39m>\u001b[39m \u001b[39mself\u001b[39m\u001b[39m.\u001b[39m_IterableDataset_len_called:\n",
      "File \u001b[1;32mc:\\Users\\alxto\\anaconda3\\envs\\superres\\Lib\\site-packages\\torch\\utils\\data\\dataloader.py:677\u001b[0m, in \u001b[0;36m_SingleProcessDataLoaderIter._next_data\u001b[1;34m(self)\u001b[0m\n\u001b[0;32m    675\u001b[0m \u001b[39mdef\u001b[39;00m \u001b[39m_next_data\u001b[39m(\u001b[39mself\u001b[39m):\n\u001b[0;32m    676\u001b[0m     index \u001b[39m=\u001b[39m \u001b[39mself\u001b[39m\u001b[39m.\u001b[39m_next_index()  \u001b[39m# may raise StopIteration\u001b[39;00m\n\u001b[1;32m--> 677\u001b[0m     data \u001b[39m=\u001b[39m \u001b[39mself\u001b[39;49m\u001b[39m.\u001b[39;49m_dataset_fetcher\u001b[39m.\u001b[39;49mfetch(index)  \u001b[39m# may raise StopIteration\u001b[39;00m\n\u001b[0;32m    678\u001b[0m     \u001b[39mif\u001b[39;00m \u001b[39mself\u001b[39m\u001b[39m.\u001b[39m_pin_memory:\n\u001b[0;32m    679\u001b[0m         data \u001b[39m=\u001b[39m _utils\u001b[39m.\u001b[39mpin_memory\u001b[39m.\u001b[39mpin_memory(data, \u001b[39mself\u001b[39m\u001b[39m.\u001b[39m_pin_memory_device)\n",
      "File \u001b[1;32mc:\\Users\\alxto\\anaconda3\\envs\\superres\\Lib\\site-packages\\torch\\utils\\data\\_utils\\fetch.py:51\u001b[0m, in \u001b[0;36m_MapDatasetFetcher.fetch\u001b[1;34m(self, possibly_batched_index)\u001b[0m\n\u001b[0;32m     49\u001b[0m         data \u001b[39m=\u001b[39m \u001b[39mself\u001b[39m\u001b[39m.\u001b[39mdataset\u001b[39m.\u001b[39m__getitems__(possibly_batched_index)\n\u001b[0;32m     50\u001b[0m     \u001b[39melse\u001b[39;00m:\n\u001b[1;32m---> 51\u001b[0m         data \u001b[39m=\u001b[39m [\u001b[39mself\u001b[39;49m\u001b[39m.\u001b[39;49mdataset[idx] \u001b[39mfor\u001b[39;49;00m idx \u001b[39min\u001b[39;49;00m possibly_batched_index]\n\u001b[0;32m     52\u001b[0m \u001b[39melse\u001b[39;00m:\n\u001b[0;32m     53\u001b[0m     data \u001b[39m=\u001b[39m \u001b[39mself\u001b[39m\u001b[39m.\u001b[39mdataset[possibly_batched_index]\n",
      "File \u001b[1;32mc:\\Users\\alxto\\anaconda3\\envs\\superres\\Lib\\site-packages\\torch\\utils\\data\\_utils\\fetch.py:51\u001b[0m, in \u001b[0;36m<listcomp>\u001b[1;34m(.0)\u001b[0m\n\u001b[0;32m     49\u001b[0m         data \u001b[39m=\u001b[39m \u001b[39mself\u001b[39m\u001b[39m.\u001b[39mdataset\u001b[39m.\u001b[39m__getitems__(possibly_batched_index)\n\u001b[0;32m     50\u001b[0m     \u001b[39melse\u001b[39;00m:\n\u001b[1;32m---> 51\u001b[0m         data \u001b[39m=\u001b[39m [\u001b[39mself\u001b[39;49m\u001b[39m.\u001b[39;49mdataset[idx] \u001b[39mfor\u001b[39;00m idx \u001b[39min\u001b[39;00m possibly_batched_index]\n\u001b[0;32m     52\u001b[0m \u001b[39melse\u001b[39;00m:\n\u001b[0;32m     53\u001b[0m     data \u001b[39m=\u001b[39m \u001b[39mself\u001b[39m\u001b[39m.\u001b[39mdataset[possibly_batched_index]\n",
      "File \u001b[1;32mc:\\Users\\alxto\\Desktop\\SAGE\\summer2023\\Arnold\\super-resolution\\dataset.py:30\u001b[0m, in \u001b[0;36mDataset.__getitem__\u001b[1;34m(self, idx)\u001b[0m\n\u001b[0;32m     28\u001b[0m lr \u001b[39m=\u001b[39m torch\u001b[39m.\u001b[39mtensor(lr)\u001b[39m.\u001b[39mpermute(\u001b[39m2\u001b[39m,\u001b[39m0\u001b[39m,\u001b[39m1\u001b[39m)\n\u001b[0;32m     29\u001b[0m \u001b[39mif\u001b[39;00m \u001b[39mself\u001b[39m\u001b[39m.\u001b[39mcrop:\n\u001b[1;32m---> 30\u001b[0m     lr, hr \u001b[39m=\u001b[39m random_crop_image_pair(high_res_tensor\u001b[39m=\u001b[39;49mhr,low_res_tensor\u001b[39m=\u001b[39;49mlr,crop_size\u001b[39m=\u001b[39;49m\u001b[39m64\u001b[39;49m,scale_factor\u001b[39m=\u001b[39;49m\u001b[39mself\u001b[39;49m\u001b[39m.\u001b[39;49msf)\n\u001b[0;32m     31\u001b[0m lr \u001b[39m=\u001b[39m core\u001b[39m.\u001b[39mimresize(lr, scale\u001b[39m=\u001b[39m\u001b[39mself\u001b[39m\u001b[39m.\u001b[39msf)\u001b[39m.\u001b[39mclamp(\u001b[39m0\u001b[39m,\u001b[39m255\u001b[39m)\n\u001b[0;32m     32\u001b[0m \u001b[39mreturn\u001b[39;00m lr, hr\n",
      "File \u001b[1;32mc:\\Users\\alxto\\Desktop\\SAGE\\summer2023\\Arnold\\super-resolution\\utils.py:9\u001b[0m, in \u001b[0;36mrandom_crop_image_pair\u001b[1;34m(high_res_tensor, low_res_tensor, crop_size, scale_factor)\u001b[0m\n\u001b[0;32m      6\u001b[0m transform \u001b[39m=\u001b[39m transforms\u001b[39m.\u001b[39mRandomCrop(crop_size)\n\u001b[0;32m      8\u001b[0m \u001b[39m# Convert tensors to PIL images\u001b[39;00m\n\u001b[1;32m----> 9\u001b[0m high_res_image \u001b[39m=\u001b[39m transforms\u001b[39m.\u001b[39;49mToPILImage()(high_res_tensor)\n\u001b[0;32m     10\u001b[0m low_res_image \u001b[39m=\u001b[39m transforms\u001b[39m.\u001b[39mToPILImage()(low_res_tensor)\n\u001b[0;32m     12\u001b[0m \u001b[39m# Generate random crop coordinates once\u001b[39;00m\n",
      "File \u001b[1;32mc:\\Users\\alxto\\anaconda3\\envs\\superres\\Lib\\site-packages\\torchvision\\transforms\\transforms.py:234\u001b[0m, in \u001b[0;36mToPILImage.__call__\u001b[1;34m(self, pic)\u001b[0m\n\u001b[0;32m    225\u001b[0m \u001b[39mdef\u001b[39;00m \u001b[39m__call__\u001b[39m(\u001b[39mself\u001b[39m, pic):\n\u001b[0;32m    226\u001b[0m \u001b[39m    \u001b[39m\u001b[39m\"\"\"\u001b[39;00m\n\u001b[0;32m    227\u001b[0m \u001b[39m    Args:\u001b[39;00m\n\u001b[0;32m    228\u001b[0m \u001b[39m        pic (Tensor or numpy.ndarray): Image to be converted to PIL Image.\u001b[39;00m\n\u001b[1;32m   (...)\u001b[0m\n\u001b[0;32m    232\u001b[0m \n\u001b[0;32m    233\u001b[0m \u001b[39m    \"\"\"\u001b[39;00m\n\u001b[1;32m--> 234\u001b[0m     \u001b[39mreturn\u001b[39;00m F\u001b[39m.\u001b[39;49mto_pil_image(pic, \u001b[39mself\u001b[39;49m\u001b[39m.\u001b[39;49mmode)\n",
      "File \u001b[1;32mc:\\Users\\alxto\\anaconda3\\envs\\superres\\Lib\\site-packages\\torchvision\\transforms\\functional.py:337\u001b[0m, in \u001b[0;36mto_pil_image\u001b[1;34m(pic, mode)\u001b[0m\n\u001b[0;32m    334\u001b[0m \u001b[39mif\u001b[39;00m mode \u001b[39mis\u001b[39;00m \u001b[39mNone\u001b[39;00m:\n\u001b[0;32m    335\u001b[0m     \u001b[39mraise\u001b[39;00m \u001b[39mTypeError\u001b[39;00m(\u001b[39mf\u001b[39m\u001b[39m\"\u001b[39m\u001b[39mInput type \u001b[39m\u001b[39m{\u001b[39;00mnpimg\u001b[39m.\u001b[39mdtype\u001b[39m}\u001b[39;00m\u001b[39m is not supported\u001b[39m\u001b[39m\"\u001b[39m)\n\u001b[1;32m--> 337\u001b[0m \u001b[39mreturn\u001b[39;00m Image\u001b[39m.\u001b[39;49mfromarray(npimg, mode\u001b[39m=\u001b[39;49mmode)\n",
      "File \u001b[1;32mc:\\Users\\alxto\\anaconda3\\envs\\superres\\Lib\\site-packages\\PIL\\Image.py:3103\u001b[0m, in \u001b[0;36mfromarray\u001b[1;34m(obj, mode)\u001b[0m\n\u001b[0;32m   3100\u001b[0m     \u001b[39melse\u001b[39;00m:\n\u001b[0;32m   3101\u001b[0m         obj \u001b[39m=\u001b[39m obj\u001b[39m.\u001b[39mtostring()\n\u001b[1;32m-> 3103\u001b[0m \u001b[39mreturn\u001b[39;00m frombuffer(mode, size, obj, \u001b[39m\"\u001b[39;49m\u001b[39mraw\u001b[39;49m\u001b[39m\"\u001b[39;49m, rawmode, \u001b[39m0\u001b[39;49m, \u001b[39m1\u001b[39;49m)\n",
      "File \u001b[1;32mc:\\Users\\alxto\\anaconda3\\envs\\superres\\Lib\\site-packages\\PIL\\Image.py:3027\u001b[0m, in \u001b[0;36mfrombuffer\u001b[1;34m(mode, size, data, decoder_name, *args)\u001b[0m\n\u001b[0;32m   3024\u001b[0m         im\u001b[39m.\u001b[39mreadonly \u001b[39m=\u001b[39m \u001b[39m1\u001b[39m\n\u001b[0;32m   3025\u001b[0m         \u001b[39mreturn\u001b[39;00m im\n\u001b[1;32m-> 3027\u001b[0m \u001b[39mreturn\u001b[39;00m frombytes(mode, size, data, decoder_name, args)\n",
      "File \u001b[1;32mc:\\Users\\alxto\\anaconda3\\envs\\superres\\Lib\\site-packages\\PIL\\Image.py:2968\u001b[0m, in \u001b[0;36mfrombytes\u001b[1;34m(mode, size, data, decoder_name, *args)\u001b[0m\n\u001b[0;32m   2965\u001b[0m \u001b[39mif\u001b[39;00m decoder_name \u001b[39m==\u001b[39m \u001b[39m\"\u001b[39m\u001b[39mraw\u001b[39m\u001b[39m\"\u001b[39m \u001b[39mand\u001b[39;00m args \u001b[39m==\u001b[39m ():\n\u001b[0;32m   2966\u001b[0m     args \u001b[39m=\u001b[39m mode\n\u001b[1;32m-> 2968\u001b[0m im \u001b[39m=\u001b[39m new(mode, size)\n\u001b[0;32m   2969\u001b[0m im\u001b[39m.\u001b[39mfrombytes(data, decoder_name, args)\n\u001b[0;32m   2970\u001b[0m \u001b[39mreturn\u001b[39;00m im\n",
      "File \u001b[1;32mc:\\Users\\alxto\\anaconda3\\envs\\superres\\Lib\\site-packages\\PIL\\Image.py:2932\u001b[0m, in \u001b[0;36mnew\u001b[1;34m(mode, size, color)\u001b[0m\n\u001b[0;32m   2930\u001b[0m     im\u001b[39m.\u001b[39mpalette \u001b[39m=\u001b[39m ImagePalette\u001b[39m.\u001b[39mImagePalette()\n\u001b[0;32m   2931\u001b[0m     color \u001b[39m=\u001b[39m im\u001b[39m.\u001b[39mpalette\u001b[39m.\u001b[39mgetcolor(color)\n\u001b[1;32m-> 2932\u001b[0m \u001b[39mreturn\u001b[39;00m im\u001b[39m.\u001b[39m_new(core\u001b[39m.\u001b[39;49mfill(mode, size, color))\n",
      "\u001b[1;31mKeyboardInterrupt\u001b[0m: "
     ]
    }
   ],
   "source": [
    "running_loss = 0\n",
    "train_loss, test_loss = [],[]\n",
    "\n",
    "model.train()\n",
    "for epoch in range(epochs):\n",
    "    print(epoch)\n",
    "    for i, (lr,hr) in enumerate(train_loader):\n",
    "        lr = lr.to(device)\n",
    "        hr = hr.to(device)\n",
    "        optimizer.zero_grad()\n",
    "        out = model(lr)\n",
    "        \n",
    "        loss = criterion(out, hr)\n",
    "        loss.backward()\n",
    "        optimizer.step()\n",
    "        running_loss+= loss.item()\n",
    "    train_loss.append(running_loss/len(train_loader)) \n",
    "    running_loss = 0\n",
    "    # with torch.no_grad():\n",
    "    #     model.eval()\n",
    "    #     print('testing')\n",
    "    #     for i, (lr,hr) in enumerate(testloader):\n",
    "    #         lr = lr.to(device)\n",
    "    #         hr = hr.to(device)\n",
    "    #         out = model(lr)\n",
    "    #         loss = criterion(out, hr)\n",
    "    #         running_loss+= loss.item()\n",
    "    #     test_loss.append(running_loss/len(testloader))\n",
    "    #     running_loss = 0\n",
    "    #     model.train()\n",
    "    print(f'train loss: {train_loss[epoch]}')\n",
    "    # torch.save([train_loss, test_loss], f'./stats/stats-{epoch}.pt')\n",
    "    if(epoch % 5 ==0):\n",
    "        torch.save(model, f'./models/model{epoch}.pth')\n",
    "torch.save(model, f'./models/model{epoch}.pth')"
   ]
  },
  {
   "cell_type": "code",
   "execution_count": null,
   "metadata": {},
   "outputs": [],
   "source": [
    "\n",
    "stats = torch.load('./stats/stats-49.pt')\n",
    "\n",
    "# Create a figure and plot the two lines on the same chart\n",
    "plt.plot(stats[0], marker='o', linestyle='-', color='b', label='Line 1')\n",
    "plt.plot(stats[1], marker='s', linestyle='--', color='r', label='Line 2')\n",
    "\n",
    "# Add labels and title\n",
    "plt.xlabel('X-axis')\n",
    "plt.ylabel('Y-axis')\n",
    "plt.title('Two Lines on the Same Chart')\n",
    "\n",
    "# Add a legend\n",
    "plt.legend()\n",
    "\n",
    "# Show the plot\n",
    "plt.show()"
   ]
  },
  {
   "cell_type": "code",
   "execution_count": null,
   "metadata": {},
   "outputs": [],
   "source": [
    "model = torch.load(\"./models/model49.pth\").to(device)\n",
    "model.eval()\n",
    "testloader = torch.utils.data.DataLoader(test, batch_size=2, shuffle=False)\n",
    "with torch.no_grad():\n",
    "    for lr, hr in testloader:\n",
    "        fig, axes = plt.subplots(2, 3, figsize=(10, 5))\n",
    "        \n",
    "        # Plot the first image on the \n",
    "        \n",
    "        \n",
    "        axes[0][0].imshow(lr[0].permute(1,2,0))\n",
    "        #axes[0][0].axis('off')\n",
    "        axes[1][0].set_xlabel('Bicubic')\n",
    "        # Plot the second image on the right\n",
    "        axes[0][1].imshow(hr[0].permute(1,2,0))\n",
    "       # axes[0][1].axis('off')\n",
    "        axes[1][1].set_xlabel('Ground Truth')\n",
    "        \n",
    "        axes[1][0].imshow(lr[1].permute(1,2,0))\n",
    "        #axes[1][0].axis('off')\n",
    "\n",
    "        # Plot the second image on the right\n",
    "        axes[1][1].imshow(hr[1].permute(1,2,0))\n",
    "       # axes[1][1].axis('off')\n",
    "        lr = model(lr.to(device)).cpu()\n",
    "        axes[0][2].imshow(lr[0].permute(1,2,0))\n",
    "        #axes[0][2].axis('off')\n",
    "        axes[1][2].set_xlabel('SRCNN')\n",
    "        axes[1][2].imshow(lr[1].permute(1,2,0))\n",
    "        #axes[1][2].axis('off')\n",
    "        # Show the images side by side\n",
    "        plt.tight_layout()\n",
    "        plt.show()\n",
    "        break\n"
   ]
  },
  {
   "cell_type": "code",
   "execution_count": null,
   "metadata": {},
   "outputs": [],
   "source": [
    "from utils import PSNR_func\n",
    "from torchvision import transforms\n",
    "import numpy as np\n",
    "psnr = 0\n",
    "\n",
    "test = Dataset(\".\\DIV2K\\DIV2K_valid_LR_bicubic_X2\",\".\\DIV2K\\DIV2K_valid_HR\", 801,2,False)\n",
    "testloader = torch.utils.data.DataLoader(test, batch_size=1, shuffle=False)\n",
    "print(len(testloader))\n",
    "with torch.no_grad():\n",
    "    for i, (lr,hr) in enumerate(testloader):\n",
    "        lr = lr.to(device).squeeze(0)\n",
    "        hr = hr.to(device)\n",
    "    \n",
    "        lr = transforms.ToPILImage()(lr.clamp(0,255))\n",
    "        \n",
    "        \n",
    "        hr = transforms.ToPILImage()(hr.squeeze(0))\n",
    "        \n",
    "        lr = np.asarray(lr)\n",
    "        hr = np.asarray(hr)\n",
    "        \n",
    "       \n",
    "        psnr += PSNR_func(lr, hr)\n",
    "        \n",
    "    print(psnr/100)"
   ]
  }
 ],
 "metadata": {
  "kernelspec": {
   "display_name": "superres",
   "language": "python",
   "name": "python3"
  },
  "language_info": {
   "codemirror_mode": {
    "name": "ipython",
    "version": 3
   },
   "file_extension": ".py",
   "mimetype": "text/x-python",
   "name": "python",
   "nbconvert_exporter": "python",
   "pygments_lexer": "ipython3",
   "version": "3.11.4"
  },
  "orig_nbformat": 4
 },
 "nbformat": 4,
 "nbformat_minor": 2
}
