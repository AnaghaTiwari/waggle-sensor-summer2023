{
 "cells": [
  {
   "attachments": {},
   "cell_type": "markdown",
   "metadata": {},
   "source": [
    "##### Notebook for Randomly Dividing Original Images + Annotated Text Files into Training, Validation, and Testing Folders, and Classifying Images into Rideshare + Normal Classes"
   ]
  },
  {
   "attachments": {},
   "cell_type": "markdown",
   "metadata": {},
   "source": [
    "Data Division for YoloV7 ML Framework\n",
    "\n",
    "70% -> Training\n",
    "<br> 20% -> Validation\n",
    "<br> 10% -> Testing\n",
    "<br> Using Python's `random` library"
   ]
  },
  {
   "cell_type": "code",
   "execution_count": null,
   "metadata": {},
   "outputs": [],
   "source": [
    "import glob\n",
    "import os\n",
    "import random\n",
    "from pathlib import Path\n",
    "import shutil\n",
    "\n",
    "def divide():\n",
    "    \n",
    "    # alter file path based on node images\n",
    "\n",
    "    file_path = [\"/home/tiwari/Waggle-Private Folder/Img_W026_May/*.jpg\"]\n",
    "    images = glob.glob(random.choice(file_path))\n",
    "    random_img = random.choice(images)\n",
    "    img_name = Path(random_img).stem\n",
    "    print(img_name)\n",
    "    text = \"\"\n",
    "    for item in os.listdir(\"/home/tiwari/Waggle-Private Folder/Img_W026_May\"):\n",
    "        if item.startswith(img_name + '.txt'):\n",
    "            text = item\n",
    "    \n",
    "    # alter old and new paths according to file origin + target destination\n",
    "    old_path = random_img\n",
    "    new_path = '/home/tiwari/Waggle-Private Folder/Img_W026_Val/' + img_name\n",
    "    shutil.move(old_path, new_path)\n",
    "    \n",
    "    old_pathtext = '/home/tiwari/Waggle-Private Folder/Img_W026_May/' + text\n",
    "    new_pathtext = '/home/tiwari/Waggle-Private Folder/Img_W026_Val/' + text\n",
    "    print(text)\n",
    "    shutil.move(old_pathtext, new_pathtext)\n",
    "    \n",
    "    return text\n",
    "\n"
   ]
  },
  {
   "cell_type": "code",
   "execution_count": null,
   "metadata": {},
   "outputs": [],
   "source": [
    "#W02c = 1604 files = 802 pics\n",
    "\n",
    "# Repeat divide function to randomly divide n files - for i in range(n):\n",
    "\n",
    "for i in range(237):\n",
    "    divide()"
   ]
  },
  {
   "cell_type": "code",
   "execution_count": null,
   "metadata": {},
   "outputs": [],
   "source": [
    "# EXTRA notes: # of files to divide per section (train, val, test) in each node\n",
    "\n",
    "# 70% train, 20% val, 10% test\n",
    "print(2372/2)\n",
    "print('train ', 1186*0.7)\n",
    "print('val ', 1186*0.2)\n",
    "print('test', 1186*0.1)\n",
    "830+237+119\n",
    "\n",
    "\n",
    "#830, 237, 119\n",
    "\n",
    "#662, 190, 95\n",
    "\n",
    "#561, 160, 81"
   ]
  },
  {
   "cell_type": "code",
   "execution_count": 3,
   "metadata": {},
   "outputs": [],
   "source": [
    "# Classifies images into 2 folders - rideshare or normal based on txt file contents\n",
    "\n",
    "import os\n",
    "\n",
    "def classify():\n",
    "\n",
    "    for files in glob.glob('/home/tiwari/Waggle-Private Folder/Img_W07B_Val/*.txt'):\n",
    "        # name = os.path.dirname(files)\n",
    "        if (os.path.getsize(files) != 0):\n",
    "            full_file = os.path.basename(files)\n",
    "            img_name = os.path.splitext(full_file)[0]\n",
    "            # print(img_name)\n",
    "            \n",
    "            text = \"\"\n",
    "            # alter file path based on image data location\n",
    "\n",
    "            for item in os.listdir('/home/tiwari/Waggle-Private Folder/Img_W07B_Val/'):\n",
    "                # print(item)\n",
    "                if item.startswith(img_name + '.jpg'):\n",
    "                    text = item\n",
    "                    # print(\"HERE\")\n",
    "                    # print(\"IMG\", text)\n",
    "\n",
    "            old_path = files\n",
    "            # print(files)\n",
    "            new_path = '/home/tiwari/Waggle-Private Folder/Rideshare/' + full_file\n",
    "            shutil.move(old_path, new_path)\n",
    "            # print(text)\n",
    "            \n",
    "            old_pathtext = '/home/tiwari/Waggle-Private Folder/Img_W07B_Val/' + text\n",
    "            new_pathtext = '/home/tiwari/Waggle-Private Folder/Rideshare/' + text\n",
    "            # print(text)\n",
    "            \n",
    "            shutil.move(old_pathtext, new_pathtext)\n",
    "\n",
    "    return text"
   ]
  },
  {
   "cell_type": "code",
   "execution_count": null,
   "metadata": {},
   "outputs": [],
   "source": [
    "classify()"
   ]
  }
 ],
 "metadata": {
  "kernelspec": {
   "display_name": "Python 3.10.6 64-bit",
   "language": "python",
   "name": "python3"
  },
  "language_info": {
   "codemirror_mode": {
    "name": "ipython",
    "version": 3
   },
   "file_extension": ".py",
   "mimetype": "text/x-python",
   "name": "python",
   "nbconvert_exporter": "python",
   "pygments_lexer": "ipython3",
   "version": "3.10.6"
  },
  "orig_nbformat": 4,
  "vscode": {
   "interpreter": {
    "hash": "aee8b7b246df8f9039afb4144a1f6fd8d2ca17a180786b69acc140d282b71a49"
   }
  }
 },
 "nbformat": 4,
 "nbformat_minor": 2
}
