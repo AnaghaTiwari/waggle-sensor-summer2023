{
 "cells": [
  {
   "cell_type": "code",
   "execution_count": 1,
   "metadata": {},
   "outputs": [],
   "source": [
    "from PIL import Image\n",
    "import os"
   ]
  },
  {
   "cell_type": "code",
   "execution_count": 2,
   "metadata": {},
   "outputs": [],
   "source": [
    "dir = \"/home/jszumny/Documents/copy of smoke data/newnew/sage-training/obstructed/\""
   ]
  },
  {
   "cell_type": "code",
   "execution_count": 3,
   "metadata": {},
   "outputs": [],
   "source": [
    "# for filename in os.listdir(dir):\n",
    "#     if \"._\" not in filename and \".DS\" not in filename:\n",
    "         \n",
    "#         image = Image.open(dir + filename)\n",
    "#         image2 = image.crop((300, 600, 1024, 1500))\n",
    "#         image3 = image.crop((1024, 600, image.size[0] - 300, 1500))\n",
    "#         image2.save(\"/home/jszumny/Documents/copy of smoke data/newnew/sage-training/test/other/\" + filename)\n",
    "#         image3.save(\"/home/jszumny/Documents/copy of smoke data/newnew/sage-training/test/other/2\" + filename)"
   ]
  },
  {
   "cell_type": "code",
   "execution_count": 2,
   "metadata": {},
   "outputs": [],
   "source": [
    "from __future__ import print_function, division\n",
    "\n",
    "import torch\n",
    "import torch.nn as nn\n",
    "import torch.optim as optim\n",
    "from torch.optim import lr_scheduler\n",
    "from torch.autograd import Variable\n",
    "import numpy as np\n",
    "import torchvision\n",
    "from torchvision import datasets, models, transforms\n",
    "import matplotlib.pyplot as plt\n",
    "import time\n",
    "import os\n",
    "import copy\n",
    "\n",
    "plt.ion()\n",
    "\n",
    "use_gpu = torch.cuda.is_available()\n",
    "if use_gpu:\n",
    "    print(\"Using CUDA\")"
   ]
  },
  {
   "cell_type": "code",
   "execution_count": 3,
   "metadata": {},
   "outputs": [
    {
     "name": "stdout",
     "output_type": "stream",
     "text": [
      "1000\n"
     ]
    }
   ],
   "source": [
    "vgg16 = models.vgg16_bn()\n",
    "vgg16.load_state_dict(torch.load(\"/home/jszumny/Downloads/vgg16_bn-6c64b313.pth\"))\n",
    "print(vgg16.classifier[6].out_features) # 1000"
   ]
  },
  {
   "cell_type": "code",
   "execution_count": 6,
   "metadata": {},
   "outputs": [
    {
     "name": "stdout",
     "output_type": "stream",
     "text": [
      "Loading pretrained model..\n"
     ]
    },
    {
     "ename": "RuntimeError",
     "evalue": "Error(s) in loading state_dict for VGG:\n\tsize mismatch for classifier.6.weight: copying a param with shape torch.Size([3, 4096]) from checkpoint, the shape in current model is torch.Size([1000, 4096]).\n\tsize mismatch for classifier.6.bias: copying a param with shape torch.Size([3]) from checkpoint, the shape in current model is torch.Size([1000]).",
     "output_type": "error",
     "traceback": [
      "\u001b[0;31m---------------------------------------------------------------------------\u001b[0m",
      "\u001b[0;31mRuntimeError\u001b[0m                              Traceback (most recent call last)",
      "\u001b[0;32m/tmp/ipykernel_2320680/3809454701.py\u001b[0m in \u001b[0;36m<module>\u001b[0;34m\u001b[0m\n\u001b[1;32m      4\u001b[0m \u001b[0;34m\u001b[0m\u001b[0m\n\u001b[1;32m      5\u001b[0m     \u001b[0mprint\u001b[0m\u001b[0;34m(\u001b[0m\u001b[0;34m\"Loading pretrained model..\"\u001b[0m\u001b[0;34m)\u001b[0m\u001b[0;34m\u001b[0m\u001b[0;34m\u001b[0m\u001b[0m\n\u001b[0;32m----> 6\u001b[0;31m     \u001b[0mvgg16\u001b[0m\u001b[0;34m.\u001b[0m\u001b[0mload_state_dict\u001b[0m\u001b[0;34m(\u001b[0m\u001b[0mtorch\u001b[0m\u001b[0;34m.\u001b[0m\u001b[0mload\u001b[0m\u001b[0;34m(\u001b[0m\u001b[0;34m'/home/jszumny/Documents/copy of smoke data/newnew/attempts/3features/fullmodelbest.pt'\u001b[0m\u001b[0;34m,\u001b[0m\u001b[0mmap_location\u001b[0m\u001b[0;34m=\u001b[0m\u001b[0mtorch\u001b[0m\u001b[0;34m.\u001b[0m\u001b[0mdevice\u001b[0m\u001b[0;34m(\u001b[0m\u001b[0;34m'cpu'\u001b[0m\u001b[0;34m)\u001b[0m\u001b[0;34m)\u001b[0m\u001b[0;34m)\u001b[0m\u001b[0;34m\u001b[0m\u001b[0;34m\u001b[0m\u001b[0m\n\u001b[0m\u001b[1;32m      7\u001b[0m     \u001b[0mprint\u001b[0m\u001b[0;34m(\u001b[0m\u001b[0;34m\"Loaded!\"\u001b[0m\u001b[0;34m)\u001b[0m\u001b[0;34m\u001b[0m\u001b[0;34m\u001b[0m\u001b[0m\n",
      "\u001b[0;32m~/.local/lib/python3.10/site-packages/torch/nn/modules/module.py\u001b[0m in \u001b[0;36mload_state_dict\u001b[0;34m(self, state_dict, strict)\u001b[0m\n\u001b[1;32m   2039\u001b[0m \u001b[0;34m\u001b[0m\u001b[0m\n\u001b[1;32m   2040\u001b[0m         \u001b[0;32mif\u001b[0m \u001b[0mlen\u001b[0m\u001b[0;34m(\u001b[0m\u001b[0merror_msgs\u001b[0m\u001b[0;34m)\u001b[0m \u001b[0;34m>\u001b[0m \u001b[0;36m0\u001b[0m\u001b[0;34m:\u001b[0m\u001b[0;34m\u001b[0m\u001b[0;34m\u001b[0m\u001b[0m\n\u001b[0;32m-> 2041\u001b[0;31m             raise RuntimeError('Error(s) in loading state_dict for {}:\\n\\t{}'.format(\n\u001b[0m\u001b[1;32m   2042\u001b[0m                                self.__class__.__name__, \"\\n\\t\".join(error_msgs)))\n\u001b[1;32m   2043\u001b[0m         \u001b[0;32mreturn\u001b[0m \u001b[0m_IncompatibleKeys\u001b[0m\u001b[0;34m(\u001b[0m\u001b[0mmissing_keys\u001b[0m\u001b[0;34m,\u001b[0m \u001b[0munexpected_keys\u001b[0m\u001b[0;34m)\u001b[0m\u001b[0;34m\u001b[0m\u001b[0;34m\u001b[0m\u001b[0m\n",
      "\u001b[0;31mRuntimeError\u001b[0m: Error(s) in loading state_dict for VGG:\n\tsize mismatch for classifier.6.weight: copying a param with shape torch.Size([3, 4096]) from checkpoint, the shape in current model is torch.Size([1000, 4096]).\n\tsize mismatch for classifier.6.bias: copying a param with shape torch.Size([3]) from checkpoint, the shape in current model is torch.Size([1000])."
     ]
    }
   ],
   "source": [
    "resume_training = True\n",
    "\n",
    "if resume_training:\n",
    "    \n",
    "    print(\"Loading pretrained model..\")\n",
    "    vgg16.load_state_dict(torch.load('/home/jszumny/Documents/copy of smoke data/newnew/attempts/3features/fullmodelbest.pt',map_location=torch.device('cpu')))\n",
    "    print(\"Loaded!\")"
   ]
  },
  {
   "cell_type": "code",
   "execution_count": 6,
   "metadata": {},
   "outputs": [],
   "source": [
    "for param in vgg16.features.parameters():\n",
    "    param.require_grad = False\n",
    "class_names = ['cloud', 'other', 'smoke']"
   ]
  },
  {
   "cell_type": "code",
   "execution_count": 7,
   "metadata": {},
   "outputs": [],
   "source": [
    "num_features = vgg16.classifier[6].in_features\n",
    "features = list(vgg16.classifier.children())[:-1] # Remove last layer\n",
    "features.extend([nn.Linear(num_features, len(class_names))]) # Add our layer with 4 outputs\n",
    "vgg16.classifier = nn.Sequential(*features) # Replace the model classifier"
   ]
  },
  {
   "cell_type": "code",
   "execution_count": 8,
   "metadata": {},
   "outputs": [],
   "source": [
    "from torchvision import transforms\n",
    "transform = transforms.Compose([            #[1]\n",
    " transforms.Resize(256),                    #[2]\n",
    " transforms.CenterCrop(224),                #[3]\n",
    " transforms.ToTensor(),                     #[4]\n",
    " transforms.Normalize(                      #[5]\n",
    " mean=[0.485, 0.456, 0.406],                #[6]\n",
    " std=[0.229, 0.224, 0.225]                  #[7]\n",
    " )])\n",
    "\n",
    "\n",
    "\n",
    "# image = Image.open(\"/home/jszumny/Downloads/smokee.jpeg\")\n",
    "# img_t = transform(image)\n",
    "# batch_t = torch.unsqueeze(img_t, 0)\n",
    "# image.show()\n"
   ]
  },
  {
   "cell_type": "code",
   "execution_count": null,
   "metadata": {},
   "outputs": [
    {
     "name": "stdout",
     "output_type": "stream",
     "text": [
      "torch.Size([1, 3])\n"
     ]
    }
   ],
   "source": [
    "vgg16.eval()\n",
    "out = vgg16(batch_t)\n",
    "print(out.shape)\n"
   ]
  },
  {
   "cell_type": "code",
   "execution_count": null,
   "metadata": {},
   "outputs": [
    {
     "name": "stdout",
     "output_type": "stream",
     "text": [
      "cloud 42.42892837524414\n"
     ]
    }
   ],
   "source": [
    "_, index = torch.max(out, 1)\n",
    " \n",
    "percentage = torch.nn.functional.softmax(out, dim=1)[0] * 100\n",
    " \n",
    "print(class_names[index[0]], percentage[index[0]].item())"
   ]
  },
  {
   "cell_type": "code",
   "execution_count": null,
   "metadata": {},
   "outputs": [
    {
     "data": {
      "text/plain": [
       "[('cloud', 42.42892837524414),\n",
       " ('other', 30.903717041015625),\n",
       " ('smoke', 26.6673526763916)]"
      ]
     },
     "execution_count": 19,
     "metadata": {},
     "output_type": "execute_result"
    }
   ],
   "source": [
    "_, indices = torch.sort(out, descending=True)\n",
    "[(class_names[idx], percentage[idx].item()) for idx in indices[0][:5]]"
   ]
  },
  {
   "cell_type": "code",
   "execution_count": 12,
   "metadata": {},
   "outputs": [],
   "source": [
    "list = []\n",
    "for filename in os.listdir(\"/home/jszumny/Documents/copy of smoke data/newnew/sage-training/clear_sky/\"):\n",
    "\n",
    "    if \"._\" not in filename and \".DS_Store\" not in filename:\n",
    "        \n",
    "        vgg16.load_state_dict(torch.load('/home/jszumny/Documents/copy of smoke data/newnew/attempts/3features/fullmodelbest.pt',map_location=torch.device('cpu')))\n",
    "\n",
    "        for param in vgg16.features.parameters():\n",
    "            param.require_grad = False\n",
    "        class_names = ['cloud', 'other', 'smoke']\n",
    "\n",
    "        # num_features = vgg16.classifier[6].in_features\n",
    "        # features = list(vgg16.classifier.children())[:-1] # Remove last layer\n",
    "        # features.extend([nn.Linear(num_features, len(class_names))]) # Add our layer with 4 outputs\n",
    "        # vgg16.classifier = nn.Sequential(*features) # Replace the model classifier\n",
    "        \n",
    "        image = Image.open(\"/home/jszumny/Documents/copy of smoke data/newnew/sage-training/clear_sky/\" + filename)\n",
    "        image = image.crop((874, 874, 1174, 1174))\n",
    "        img_t = transform(image)\n",
    "        batch_t = torch.unsqueeze(img_t, 0)\n",
    "    \n",
    "        vgg16.eval()\n",
    "        out = vgg16(batch_t)\n",
    "    \n",
    "        _, index = torch.max(out, 1)\n",
    "    \n",
    "        percentage = torch.nn.functional.softmax(out, dim=1)[0] * 100\n",
    "        \n",
    "        d = {\"Class\": class_names[index[0]], \"Percentage\": percentage[index[0]].item()}\n",
    "        list.append(d)\n",
    "\n",
    "import pandas as pd\n",
    "df = pd.DataFrame(list)\n"
   ]
  },
  {
   "cell_type": "code",
   "execution_count": 13,
   "metadata": {},
   "outputs": [
    {
     "data": {
      "text/plain": [
       "0.008403361344537815"
      ]
     },
     "execution_count": 13,
     "metadata": {},
     "output_type": "execute_result"
    }
   ],
   "source": [
    "len(df[df[\"Class\"] == \"smoke\"]) / len(df)"
   ]
  },
  {
   "cell_type": "code",
   "execution_count": 14,
   "metadata": {},
   "outputs": [
    {
     "data": {
      "text/html": [
       "<div>\n",
       "<style scoped>\n",
       "    .dataframe tbody tr th:only-of-type {\n",
       "        vertical-align: middle;\n",
       "    }\n",
       "\n",
       "    .dataframe tbody tr th {\n",
       "        vertical-align: top;\n",
       "    }\n",
       "\n",
       "    .dataframe thead th {\n",
       "        text-align: right;\n",
       "    }\n",
       "</style>\n",
       "<table border=\"1\" class=\"dataframe\">\n",
       "  <thead>\n",
       "    <tr style=\"text-align: right;\">\n",
       "      <th></th>\n",
       "      <th>Class</th>\n",
       "      <th>Percentage</th>\n",
       "    </tr>\n",
       "  </thead>\n",
       "  <tbody>\n",
       "    <tr>\n",
       "      <th>0</th>\n",
       "      <td>other</td>\n",
       "      <td>50.678963</td>\n",
       "    </tr>\n",
       "    <tr>\n",
       "      <th>1</th>\n",
       "      <td>other</td>\n",
       "      <td>50.200634</td>\n",
       "    </tr>\n",
       "    <tr>\n",
       "      <th>2</th>\n",
       "      <td>cloud</td>\n",
       "      <td>94.633087</td>\n",
       "    </tr>\n",
       "    <tr>\n",
       "      <th>3</th>\n",
       "      <td>cloud</td>\n",
       "      <td>56.009666</td>\n",
       "    </tr>\n",
       "    <tr>\n",
       "      <th>4</th>\n",
       "      <td>cloud</td>\n",
       "      <td>42.246296</td>\n",
       "    </tr>\n",
       "    <tr>\n",
       "      <th>...</th>\n",
       "      <td>...</td>\n",
       "      <td>...</td>\n",
       "    </tr>\n",
       "    <tr>\n",
       "      <th>114</th>\n",
       "      <td>cloud</td>\n",
       "      <td>57.728077</td>\n",
       "    </tr>\n",
       "    <tr>\n",
       "      <th>115</th>\n",
       "      <td>cloud</td>\n",
       "      <td>49.652565</td>\n",
       "    </tr>\n",
       "    <tr>\n",
       "      <th>116</th>\n",
       "      <td>other</td>\n",
       "      <td>41.612331</td>\n",
       "    </tr>\n",
       "    <tr>\n",
       "      <th>117</th>\n",
       "      <td>other</td>\n",
       "      <td>43.622978</td>\n",
       "    </tr>\n",
       "    <tr>\n",
       "      <th>118</th>\n",
       "      <td>cloud</td>\n",
       "      <td>55.087589</td>\n",
       "    </tr>\n",
       "  </tbody>\n",
       "</table>\n",
       "<p>119 rows × 2 columns</p>\n",
       "</div>"
      ],
      "text/plain": [
       "     Class  Percentage\n",
       "0    other   50.678963\n",
       "1    other   50.200634\n",
       "2    cloud   94.633087\n",
       "3    cloud   56.009666\n",
       "4    cloud   42.246296\n",
       "..     ...         ...\n",
       "114  cloud   57.728077\n",
       "115  cloud   49.652565\n",
       "116  other   41.612331\n",
       "117  other   43.622978\n",
       "118  cloud   55.087589\n",
       "\n",
       "[119 rows x 2 columns]"
      ]
     },
     "execution_count": 14,
     "metadata": {},
     "output_type": "execute_result"
    }
   ],
   "source": [
    "df"
   ]
  },
  {
   "cell_type": "code",
   "execution_count": null,
   "metadata": {},
   "outputs": [],
   "source": [
    "list = []\n",
    "for filename in os.listdir(\"/home/jszumny/Documents/copy of smoke data/newnew/sage-training/clouds/\"):\n",
    "\n",
    "    if \"._\" not in filename and \".DS_Store\" not in filename:\n",
    "        \n",
    "        vgg16.load_state_dict(torch.load('/home/jszumny/Documents/copy of smoke data/newnew/attempts/3features/fullmodelbest.pt',map_location=torch.device('cpu')))\n",
    "\n",
    "        for param in vgg16.features.parameters():\n",
    "            param.require_grad = False\n",
    "        class_names = ['cloud', 'other', 'smoke']\n",
    "\n",
    "        # num_features = vgg16.classifier[6].in_features\n",
    "        # features = list(vgg16.classifier.children())[:-1] # Remove last layer\n",
    "        # features.extend([nn.Linear(num_features, len(class_names))]) # Add our layer with 4 outputs\n",
    "        # vgg16.classifier = nn.Sequential(*features) # Replace the model classifier\n",
    "        \n",
    "        image = Image.open(\"/home/jszumny/Documents/copy of smoke data/newnew/sage-training/clouds/\" + filename)\n",
    "        image = image.crop((874, 874, 1174, 1174))\n",
    "        img_t = transform(image)\n",
    "        batch_t = torch.unsqueeze(img_t, 0)\n",
    "    \n",
    "        vgg16.eval()\n",
    "        out = vgg16(batch_t)\n",
    "    \n",
    "        _, index = torch.max(out, 1)\n",
    "    \n",
    "        percentage = torch.nn.functional.softmax(out, dim=1)[0] * 100\n",
    "        \n",
    "        d = {\"Class\": class_names[index[0]], \"Percentage\": percentage[index[0]].item()}\n",
    "        list.append(d)\n",
    "\n",
    "import pandas as pd\n",
    "df2 = pd.DataFrame(list)"
   ]
  },
  {
   "cell_type": "code",
   "execution_count": null,
   "metadata": {},
   "outputs": [
    {
     "data": {
      "text/html": [
       "<div>\n",
       "<style scoped>\n",
       "    .dataframe tbody tr th:only-of-type {\n",
       "        vertical-align: middle;\n",
       "    }\n",
       "\n",
       "    .dataframe tbody tr th {\n",
       "        vertical-align: top;\n",
       "    }\n",
       "\n",
       "    .dataframe thead th {\n",
       "        text-align: right;\n",
       "    }\n",
       "</style>\n",
       "<table border=\"1\" class=\"dataframe\">\n",
       "  <thead>\n",
       "    <tr style=\"text-align: right;\">\n",
       "      <th></th>\n",
       "      <th>Class</th>\n",
       "      <th>Percentage</th>\n",
       "    </tr>\n",
       "  </thead>\n",
       "  <tbody>\n",
       "    <tr>\n",
       "      <th>0</th>\n",
       "      <td>cloud</td>\n",
       "      <td>88.528069</td>\n",
       "    </tr>\n",
       "    <tr>\n",
       "      <th>1</th>\n",
       "      <td>smoke</td>\n",
       "      <td>44.058887</td>\n",
       "    </tr>\n",
       "    <tr>\n",
       "      <th>2</th>\n",
       "      <td>cloud</td>\n",
       "      <td>99.323601</td>\n",
       "    </tr>\n",
       "    <tr>\n",
       "      <th>3</th>\n",
       "      <td>smoke</td>\n",
       "      <td>84.997543</td>\n",
       "    </tr>\n",
       "    <tr>\n",
       "      <th>4</th>\n",
       "      <td>cloud</td>\n",
       "      <td>61.817337</td>\n",
       "    </tr>\n",
       "    <tr>\n",
       "      <th>...</th>\n",
       "      <td>...</td>\n",
       "      <td>...</td>\n",
       "    </tr>\n",
       "    <tr>\n",
       "      <th>775</th>\n",
       "      <td>other</td>\n",
       "      <td>92.928329</td>\n",
       "    </tr>\n",
       "    <tr>\n",
       "      <th>776</th>\n",
       "      <td>cloud</td>\n",
       "      <td>99.516312</td>\n",
       "    </tr>\n",
       "    <tr>\n",
       "      <th>777</th>\n",
       "      <td>cloud</td>\n",
       "      <td>99.628181</td>\n",
       "    </tr>\n",
       "    <tr>\n",
       "      <th>778</th>\n",
       "      <td>cloud</td>\n",
       "      <td>71.874435</td>\n",
       "    </tr>\n",
       "    <tr>\n",
       "      <th>779</th>\n",
       "      <td>other</td>\n",
       "      <td>46.385731</td>\n",
       "    </tr>\n",
       "  </tbody>\n",
       "</table>\n",
       "<p>780 rows × 2 columns</p>\n",
       "</div>"
      ],
      "text/plain": [
       "     Class  Percentage\n",
       "0    cloud   88.528069\n",
       "1    smoke   44.058887\n",
       "2    cloud   99.323601\n",
       "3    smoke   84.997543\n",
       "4    cloud   61.817337\n",
       "..     ...         ...\n",
       "775  other   92.928329\n",
       "776  cloud   99.516312\n",
       "777  cloud   99.628181\n",
       "778  cloud   71.874435\n",
       "779  other   46.385731\n",
       "\n",
       "[780 rows x 2 columns]"
      ]
     },
     "execution_count": 27,
     "metadata": {},
     "output_type": "execute_result"
    }
   ],
   "source": [
    "df2"
   ]
  },
  {
   "cell_type": "code",
   "execution_count": null,
   "metadata": {},
   "outputs": [
    {
     "data": {
      "text/plain": [
       "0.05"
      ]
     },
     "execution_count": 28,
     "metadata": {},
     "output_type": "execute_result"
    }
   ],
   "source": [
    "len(df2[df2[\"Class\"] == \"smoke\"]) / len(df2)"
   ]
  },
  {
   "cell_type": "code",
   "execution_count": null,
   "metadata": {},
   "outputs": [],
   "source": [
    "list = []\n",
    "for filename in os.listdir(\"/home/jszumny/Documents/copy of smoke data/newnew/sage-training/obstructed/\"):\n",
    "\n",
    "    if \"._\" not in filename and \".DS_Store\" not in filename:\n",
    "        \n",
    "        vgg16.load_state_dict(torch.load('/home/jszumny/Documents/copy of smoke data/newnew/attempts/3features/fullmodelbest.pt',map_location=torch.device('cpu')))\n",
    "\n",
    "        for param in vgg16.features.parameters():\n",
    "            param.require_grad = False\n",
    "        class_names = ['cloud', 'other', 'smoke']\n",
    "\n",
    "        # num_features = vgg16.classifier[6].in_features\n",
    "        # features = list(vgg16.classifier.children())[:-1] # Remove last layer\n",
    "        # features.extend([nn.Linear(num_features, len(class_names))]) # Add our layer with 4 outputs\n",
    "        # vgg16.classifier = nn.Sequential(*features) # Replace the model classifier\n",
    "        \n",
    "        image = Image.open(\"/home/jszumny/Documents/copy of smoke data/newnew/sage-training/obstructed/\" + filename)\n",
    "        image = image.crop((874, 874, 1174, 1174))\n",
    "        img_t = transform(image)\n",
    "        batch_t = torch.unsqueeze(img_t, 0)\n",
    "    \n",
    "        vgg16.eval()\n",
    "        out = vgg16(batch_t)\n",
    "    \n",
    "        _, index = torch.max(out, 1)\n",
    "    \n",
    "        percentage = torch.nn.functional.softmax(out, dim=1)[0] * 100\n",
    "        \n",
    "        d = {\"Class\": class_names[index[0]], \"Percentage\": percentage[index[0]].item()}\n",
    "        list.append(d)\n",
    "\n",
    "import pandas as pd\n",
    "df3 = pd.DataFrame(list)"
   ]
  },
  {
   "cell_type": "code",
   "execution_count": null,
   "metadata": {},
   "outputs": [
    {
     "data": {
      "text/html": [
       "<div>\n",
       "<style scoped>\n",
       "    .dataframe tbody tr th:only-of-type {\n",
       "        vertical-align: middle;\n",
       "    }\n",
       "\n",
       "    .dataframe tbody tr th {\n",
       "        vertical-align: top;\n",
       "    }\n",
       "\n",
       "    .dataframe thead th {\n",
       "        text-align: right;\n",
       "    }\n",
       "</style>\n",
       "<table border=\"1\" class=\"dataframe\">\n",
       "  <thead>\n",
       "    <tr style=\"text-align: right;\">\n",
       "      <th></th>\n",
       "      <th>Class</th>\n",
       "      <th>Percentage</th>\n",
       "    </tr>\n",
       "  </thead>\n",
       "  <tbody>\n",
       "    <tr>\n",
       "      <th>0</th>\n",
       "      <td>other</td>\n",
       "      <td>79.876564</td>\n",
       "    </tr>\n",
       "    <tr>\n",
       "      <th>1</th>\n",
       "      <td>cloud</td>\n",
       "      <td>77.192413</td>\n",
       "    </tr>\n",
       "    <tr>\n",
       "      <th>2</th>\n",
       "      <td>other</td>\n",
       "      <td>49.888454</td>\n",
       "    </tr>\n",
       "    <tr>\n",
       "      <th>3</th>\n",
       "      <td>other</td>\n",
       "      <td>89.901848</td>\n",
       "    </tr>\n",
       "    <tr>\n",
       "      <th>4</th>\n",
       "      <td>other</td>\n",
       "      <td>84.399361</td>\n",
       "    </tr>\n",
       "    <tr>\n",
       "      <th>...</th>\n",
       "      <td>...</td>\n",
       "      <td>...</td>\n",
       "    </tr>\n",
       "    <tr>\n",
       "      <th>451</th>\n",
       "      <td>other</td>\n",
       "      <td>97.816055</td>\n",
       "    </tr>\n",
       "    <tr>\n",
       "      <th>452</th>\n",
       "      <td>other</td>\n",
       "      <td>72.938225</td>\n",
       "    </tr>\n",
       "    <tr>\n",
       "      <th>453</th>\n",
       "      <td>cloud</td>\n",
       "      <td>63.851238</td>\n",
       "    </tr>\n",
       "    <tr>\n",
       "      <th>454</th>\n",
       "      <td>cloud</td>\n",
       "      <td>86.317787</td>\n",
       "    </tr>\n",
       "    <tr>\n",
       "      <th>455</th>\n",
       "      <td>cloud</td>\n",
       "      <td>78.756241</td>\n",
       "    </tr>\n",
       "  </tbody>\n",
       "</table>\n",
       "<p>456 rows × 2 columns</p>\n",
       "</div>"
      ],
      "text/plain": [
       "     Class  Percentage\n",
       "0    other   79.876564\n",
       "1    cloud   77.192413\n",
       "2    other   49.888454\n",
       "3    other   89.901848\n",
       "4    other   84.399361\n",
       "..     ...         ...\n",
       "451  other   97.816055\n",
       "452  other   72.938225\n",
       "453  cloud   63.851238\n",
       "454  cloud   86.317787\n",
       "455  cloud   78.756241\n",
       "\n",
       "[456 rows x 2 columns]"
      ]
     },
     "execution_count": 30,
     "metadata": {},
     "output_type": "execute_result"
    }
   ],
   "source": [
    "df3"
   ]
  },
  {
   "cell_type": "code",
   "execution_count": null,
   "metadata": {},
   "outputs": [
    {
     "data": {
      "text/plain": [
       "0.019736842105263157"
      ]
     },
     "execution_count": 31,
     "metadata": {},
     "output_type": "execute_result"
    }
   ],
   "source": [
    "len(df3[df3[\"Class\"] == \"smoke\"]) / len(df3)\n"
   ]
  },
  {
   "attachments": {},
   "cell_type": "markdown",
   "metadata": {},
   "source": [
    "UCSD MODEL"
   ]
  },
  {
   "cell_type": "code",
   "execution_count": 9,
   "metadata": {},
   "outputs": [],
   "source": [
    "# from __future__ import print_function, division\n",
    "\n",
    "# import torch\n",
    "# import torch.nn as nn\n",
    "# import torch.optim as optim\n",
    "# from torch.optim import lr_scheduler\n",
    "# from torch.autograd import Variable\n",
    "# import numpy as np\n",
    "# import torchvision\n",
    "# from torchvision import datasets, models, transforms\n",
    "# import matplotlib.pyplot as plt\n",
    "# import time\n",
    "# import os\n",
    "# import copy\n",
    "# # from main_model import MainModel\n",
    "\n",
    "# plt.ion()\n",
    "\n",
    "# use_gpu = torch.cuda.is_available()\n",
    "# if use_gpu:\n",
    "#     print(\"Using CUDA\")"
   ]
  },
  {
   "cell_type": "code",
   "execution_count": 9,
   "metadata": {},
   "outputs": [
    {
     "name": "stderr",
     "output_type": "stream",
     "text": [
      "Using cache found in /home/jszumny/.cache/torch/hub/pytorch_vision_v0.10.0\n",
      "/home/jszumny/.local/lib/python3.10/site-packages/torchvision/models/_utils.py:208: UserWarning: The parameter 'pretrained' is deprecated since 0.13 and may be removed in the future, please use 'weights' instead.\n",
      "  warnings.warn(\n",
      "/home/jszumny/.local/lib/python3.10/site-packages/torchvision/models/_utils.py:223: UserWarning: Arguments other than a weight enum or `None` for 'weights' are deprecated since 0.13 and may be removed in the future. The current behavior is equivalent to passing `weights=ResNet18_Weights.IMAGENET1K_V1`. You can also use `weights=ResNet18_Weights.DEFAULT` to get the most up-to-date weights.\n",
      "  warnings.warn(msg)\n"
     ]
    }
   ],
   "source": [
    "\n",
    "resnet18 = torch.hub.load('pytorch/vision:v0.10.0', 'resnet18', pretrained=True)\n",
    "# resnet34 = torch.hub.load('pytorch/vision:v0.10.0', 'resnet34', pretrained=True)\n",
    "# resnet50 = torch.hub.load('pytorch/vision:v0.10.0', 'resnet50', pretrained=True)\n",
    "num_features = resnet18.fc.in_features     #extract fc layers features\n",
    "resnet18.fc = nn.Linear(num_features, 3) #(num_of_class == 2)\n",
    "\n",
    "# num_features = resnet34.fc.in_features     #extract fc layers features\n",
    "# resnet34.fc = nn.Linear(num_features, 3) #(num_of_class == 2)\n",
    "\n",
    "# num_features = resnet50.fc.in_features     #extract fc layers features\n",
    "# resnet50.fc = nn.Linear(num_features, 3) #(num_of_class == 2)\n",
    "\n",
    "list = []\n",
    "for filename in os.listdir(\"/home/jszumny/Documents/copy of smoke data/newnew/sage-training/clear_sky/\"):\n",
    "\n",
    "    if \"._\" not in filename and \".DS_Store\" not in filename:\n",
    "        \n",
    "        resnet18.load_state_dict(torch.load('/home/jszumny/Documents/copy of smoke data/newnew/attempts/3features/resnet18model.pt',map_location=torch.device('cpu')))\n",
    "\n",
    "        # for param in resnet18.features.parameters():\n",
    "        #     param.require_grad = False\n",
    "        class_names = ['cloud', 'other', 'smoke']\n",
    "\n",
    "        # num_features = vgg16.classifier[6].in_features\n",
    "        # features = list(vgg16.classifier.children())[:-1] # Remove last layer\n",
    "        # features.extend([nn.Linear(num_features, len(class_names))]) # Add our layer with 4 outputs\n",
    "        # vgg16.classifier = nn.Sequential(*features) # Replace the model classifier\n",
    "        \n",
    "        image = Image.open(\"/home/jszumny/Documents/copy of smoke data/newnew/sage-training/clear_sky/\" + filename)\n",
    "        image = image.crop((874, 874, 1174, 1174))\n",
    "        img_t = transform(image)\n",
    "        batch_t = torch.unsqueeze(img_t, 0)\n",
    "    \n",
    "        resnet18.eval()\n",
    "        out = resnet18(batch_t)\n",
    "    \n",
    "        _, index = torch.max(out, 1)\n",
    "    \n",
    "        percentage = torch.nn.functional.softmax(out, dim=1)[0] * 100\n",
    "        \n",
    "        d = {\"Class\": class_names[index[0]], \"Percentage\": percentage[index[0]].item()}\n",
    "        list.append(d)\n",
    "\n",
    "import pandas as pd\n",
    "df = pd.DataFrame(list)"
   ]
  },
  {
   "cell_type": "code",
   "execution_count": 10,
   "metadata": {},
   "outputs": [
    {
     "data": {
      "text/html": [
       "<div>\n",
       "<style scoped>\n",
       "    .dataframe tbody tr th:only-of-type {\n",
       "        vertical-align: middle;\n",
       "    }\n",
       "\n",
       "    .dataframe tbody tr th {\n",
       "        vertical-align: top;\n",
       "    }\n",
       "\n",
       "    .dataframe thead th {\n",
       "        text-align: right;\n",
       "    }\n",
       "</style>\n",
       "<table border=\"1\" class=\"dataframe\">\n",
       "  <thead>\n",
       "    <tr style=\"text-align: right;\">\n",
       "      <th></th>\n",
       "      <th>Class</th>\n",
       "      <th>Percentage</th>\n",
       "    </tr>\n",
       "  </thead>\n",
       "  <tbody>\n",
       "  </tbody>\n",
       "</table>\n",
       "</div>"
      ],
      "text/plain": [
       "Empty DataFrame\n",
       "Columns: [Class, Percentage]\n",
       "Index: []"
      ]
     },
     "execution_count": 10,
     "metadata": {},
     "output_type": "execute_result"
    }
   ],
   "source": [
    "df[df.Class == \"smoke\"]"
   ]
  },
  {
   "cell_type": "code",
   "execution_count": null,
   "metadata": {},
   "outputs": [],
   "source": [
    "list = []\n",
    "for filename in os.listdir(\"/home/jszumny/Documents/copy of smoke data/newnew/sage-training/obstructed/\"):\n",
    "\n",
    "    if \"._\" not in filename and \".DS_Store\" not in filename:\n",
    "        \n",
    "        resnet18.load_state_dict(torch.load('/home/jszumny/Documents/copy of smoke data/newnew/attempts/3features/resnet18model.pt',map_location=torch.device('cpu')))\n",
    "\n",
    "        # for param in resnet18.features.parameters():\n",
    "        #     param.require_grad = False\n",
    "        class_names = ['cloud', 'other', 'smoke']\n",
    "\n",
    "        # num_features = vgg16.classifier[6].in_features\n",
    "        # features = list(vgg16.classifier.children())[:-1] # Remove last layer\n",
    "        # features.extend([nn.Linear(num_features, len(class_names))]) # Add our layer with 4 outputs\n",
    "        # vgg16.classifier = nn.Sequential(*features) # Replace the model classifier\n",
    "        \n",
    "        image = Image.open(\"/home/jszumny/Documents/copy of smoke data/newnew/sage-training/obstructed/\" + filename)\n",
    "        image = image.crop((874, 874, 1174, 1174))\n",
    "        img_t = transform(image)\n",
    "        batch_t = torch.unsqueeze(img_t, 0)\n",
    "    \n",
    "        resnet18.eval()\n",
    "        out = resnet18(batch_t)\n",
    "    \n",
    "        _, index = torch.max(out, 1)\n",
    "    \n",
    "        percentage = torch.nn.functional.softmax(out, dim=1)[0] * 100\n",
    "        \n",
    "        d = {\"Class\": class_names[index[0]], \"Percentage\": percentage[index[0]].item()}\n",
    "        list.append(d)\n",
    "\n",
    "import pandas as pd\n",
    "df = pd.DataFrame(list)"
   ]
  },
  {
   "cell_type": "code",
   "execution_count": null,
   "metadata": {},
   "outputs": [
    {
     "data": {
      "text/plain": [
       "0.021929824561403508"
      ]
     },
     "execution_count": 50,
     "metadata": {},
     "output_type": "execute_result"
    }
   ],
   "source": [
    "len(df[df.Class == \"smoke\"]) / len(df\n",
    "        )"
   ]
  },
  {
   "cell_type": "code",
   "execution_count": 12,
   "metadata": {},
   "outputs": [
    {
     "ename": "KeyboardInterrupt",
     "evalue": "",
     "output_type": "error",
     "traceback": [
      "\u001b[0;31m---------------------------------------------------------------------------\u001b[0m",
      "\u001b[0;31mKeyboardInterrupt\u001b[0m                         Traceback (most recent call last)",
      "\u001b[0;32m/tmp/ipykernel_2327575/2878274304.py\u001b[0m in \u001b[0;36m<module>\u001b[0;34m\u001b[0m\n\u001b[1;32m      4\u001b[0m     \u001b[0;32mif\u001b[0m \u001b[0;34m\"._\"\u001b[0m \u001b[0;32mnot\u001b[0m \u001b[0;32min\u001b[0m \u001b[0mfilename\u001b[0m \u001b[0;32mand\u001b[0m \u001b[0;34m\".DS_Store\"\u001b[0m \u001b[0;32mnot\u001b[0m \u001b[0;32min\u001b[0m \u001b[0mfilename\u001b[0m\u001b[0;34m:\u001b[0m\u001b[0;34m\u001b[0m\u001b[0;34m\u001b[0m\u001b[0m\n\u001b[1;32m      5\u001b[0m \u001b[0;34m\u001b[0m\u001b[0m\n\u001b[0;32m----> 6\u001b[0;31m         \u001b[0mresnet18\u001b[0m\u001b[0;34m.\u001b[0m\u001b[0mload_state_dict\u001b[0m\u001b[0;34m(\u001b[0m\u001b[0mtorch\u001b[0m\u001b[0;34m.\u001b[0m\u001b[0mload\u001b[0m\u001b[0;34m(\u001b[0m\u001b[0;34m'/home/jszumny/Documents/copy of smoke data/newnew/attempts/3features/resnet18model.pt'\u001b[0m\u001b[0;34m,\u001b[0m\u001b[0mmap_location\u001b[0m\u001b[0;34m=\u001b[0m\u001b[0mtorch\u001b[0m\u001b[0;34m.\u001b[0m\u001b[0mdevice\u001b[0m\u001b[0;34m(\u001b[0m\u001b[0;34m'cpu'\u001b[0m\u001b[0;34m)\u001b[0m\u001b[0;34m)\u001b[0m\u001b[0;34m)\u001b[0m\u001b[0;34m\u001b[0m\u001b[0;34m\u001b[0m\u001b[0m\n\u001b[0m\u001b[1;32m      7\u001b[0m \u001b[0;34m\u001b[0m\u001b[0m\n\u001b[1;32m      8\u001b[0m         \u001b[0;31m# for param in resnet18.features.parameters():\u001b[0m\u001b[0;34m\u001b[0m\u001b[0;34m\u001b[0m\u001b[0m\n",
      "\u001b[0;32m~/.local/lib/python3.10/site-packages/torch/nn/modules/module.py\u001b[0m in \u001b[0;36mload_state_dict\u001b[0;34m(self, state_dict, strict)\u001b[0m\n\u001b[1;32m   2025\u001b[0m                 )\n\u001b[1;32m   2026\u001b[0m \u001b[0;34m\u001b[0m\u001b[0m\n\u001b[0;32m-> 2027\u001b[0;31m         \u001b[0mload\u001b[0m\u001b[0;34m(\u001b[0m\u001b[0mself\u001b[0m\u001b[0;34m,\u001b[0m \u001b[0mstate_dict\u001b[0m\u001b[0;34m)\u001b[0m\u001b[0;34m\u001b[0m\u001b[0;34m\u001b[0m\u001b[0m\n\u001b[0m\u001b[1;32m   2028\u001b[0m         \u001b[0;32mdel\u001b[0m \u001b[0mload\u001b[0m\u001b[0;34m\u001b[0m\u001b[0;34m\u001b[0m\u001b[0m\n\u001b[1;32m   2029\u001b[0m \u001b[0;34m\u001b[0m\u001b[0m\n",
      "\u001b[0;32m~/.local/lib/python3.10/site-packages/torch/nn/modules/module.py\u001b[0m in \u001b[0;36mload\u001b[0;34m(module, local_state_dict, prefix)\u001b[0m\n\u001b[1;32m   2013\u001b[0m                     \u001b[0mchild_prefix\u001b[0m \u001b[0;34m=\u001b[0m \u001b[0mprefix\u001b[0m \u001b[0;34m+\u001b[0m \u001b[0mname\u001b[0m \u001b[0;34m+\u001b[0m \u001b[0;34m'.'\u001b[0m\u001b[0;34m\u001b[0m\u001b[0;34m\u001b[0m\u001b[0m\n\u001b[1;32m   2014\u001b[0m                     \u001b[0mchild_state_dict\u001b[0m \u001b[0;34m=\u001b[0m \u001b[0;34m{\u001b[0m\u001b[0mk\u001b[0m\u001b[0;34m:\u001b[0m \u001b[0mv\u001b[0m \u001b[0;32mfor\u001b[0m \u001b[0mk\u001b[0m\u001b[0;34m,\u001b[0m \u001b[0mv\u001b[0m \u001b[0;32min\u001b[0m \u001b[0mlocal_state_dict\u001b[0m\u001b[0;34m.\u001b[0m\u001b[0mitems\u001b[0m\u001b[0;34m(\u001b[0m\u001b[0;34m)\u001b[0m \u001b[0;32mif\u001b[0m \u001b[0mk\u001b[0m\u001b[0;34m.\u001b[0m\u001b[0mstartswith\u001b[0m\u001b[0;34m(\u001b[0m\u001b[0mchild_prefix\u001b[0m\u001b[0;34m)\u001b[0m\u001b[0;34m}\u001b[0m\u001b[0;34m\u001b[0m\u001b[0;34m\u001b[0m\u001b[0m\n\u001b[0;32m-> 2015\u001b[0;31m                     \u001b[0mload\u001b[0m\u001b[0;34m(\u001b[0m\u001b[0mchild\u001b[0m\u001b[0;34m,\u001b[0m \u001b[0mchild_state_dict\u001b[0m\u001b[0;34m,\u001b[0m \u001b[0mchild_prefix\u001b[0m\u001b[0;34m)\u001b[0m\u001b[0;34m\u001b[0m\u001b[0;34m\u001b[0m\u001b[0m\n\u001b[0m\u001b[1;32m   2016\u001b[0m \u001b[0;34m\u001b[0m\u001b[0m\n\u001b[1;32m   2017\u001b[0m             \u001b[0;31m# Note that the hook can modify missing_keys and unexpected_keys.\u001b[0m\u001b[0;34m\u001b[0m\u001b[0;34m\u001b[0m\u001b[0m\n",
      "\u001b[0;32m~/.local/lib/python3.10/site-packages/torch/nn/modules/module.py\u001b[0m in \u001b[0;36mload\u001b[0;34m(module, local_state_dict, prefix)\u001b[0m\n\u001b[1;32m   2013\u001b[0m                     \u001b[0mchild_prefix\u001b[0m \u001b[0;34m=\u001b[0m \u001b[0mprefix\u001b[0m \u001b[0;34m+\u001b[0m \u001b[0mname\u001b[0m \u001b[0;34m+\u001b[0m \u001b[0;34m'.'\u001b[0m\u001b[0;34m\u001b[0m\u001b[0;34m\u001b[0m\u001b[0m\n\u001b[1;32m   2014\u001b[0m                     \u001b[0mchild_state_dict\u001b[0m \u001b[0;34m=\u001b[0m \u001b[0;34m{\u001b[0m\u001b[0mk\u001b[0m\u001b[0;34m:\u001b[0m \u001b[0mv\u001b[0m \u001b[0;32mfor\u001b[0m \u001b[0mk\u001b[0m\u001b[0;34m,\u001b[0m \u001b[0mv\u001b[0m \u001b[0;32min\u001b[0m \u001b[0mlocal_state_dict\u001b[0m\u001b[0;34m.\u001b[0m\u001b[0mitems\u001b[0m\u001b[0;34m(\u001b[0m\u001b[0;34m)\u001b[0m \u001b[0;32mif\u001b[0m \u001b[0mk\u001b[0m\u001b[0;34m.\u001b[0m\u001b[0mstartswith\u001b[0m\u001b[0;34m(\u001b[0m\u001b[0mchild_prefix\u001b[0m\u001b[0;34m)\u001b[0m\u001b[0;34m}\u001b[0m\u001b[0;34m\u001b[0m\u001b[0;34m\u001b[0m\u001b[0m\n\u001b[0;32m-> 2015\u001b[0;31m                     \u001b[0mload\u001b[0m\u001b[0;34m(\u001b[0m\u001b[0mchild\u001b[0m\u001b[0;34m,\u001b[0m \u001b[0mchild_state_dict\u001b[0m\u001b[0;34m,\u001b[0m \u001b[0mchild_prefix\u001b[0m\u001b[0;34m)\u001b[0m\u001b[0;34m\u001b[0m\u001b[0;34m\u001b[0m\u001b[0m\n\u001b[0m\u001b[1;32m   2016\u001b[0m \u001b[0;34m\u001b[0m\u001b[0m\n\u001b[1;32m   2017\u001b[0m             \u001b[0;31m# Note that the hook can modify missing_keys and unexpected_keys.\u001b[0m\u001b[0;34m\u001b[0m\u001b[0;34m\u001b[0m\u001b[0m\n",
      "\u001b[0;32m~/.local/lib/python3.10/site-packages/torch/nn/modules/module.py\u001b[0m in \u001b[0;36mload\u001b[0;34m(module, local_state_dict, prefix)\u001b[0m\n\u001b[1;32m   2013\u001b[0m                     \u001b[0mchild_prefix\u001b[0m \u001b[0;34m=\u001b[0m \u001b[0mprefix\u001b[0m \u001b[0;34m+\u001b[0m \u001b[0mname\u001b[0m \u001b[0;34m+\u001b[0m \u001b[0;34m'.'\u001b[0m\u001b[0;34m\u001b[0m\u001b[0;34m\u001b[0m\u001b[0m\n\u001b[1;32m   2014\u001b[0m                     \u001b[0mchild_state_dict\u001b[0m \u001b[0;34m=\u001b[0m \u001b[0;34m{\u001b[0m\u001b[0mk\u001b[0m\u001b[0;34m:\u001b[0m \u001b[0mv\u001b[0m \u001b[0;32mfor\u001b[0m \u001b[0mk\u001b[0m\u001b[0;34m,\u001b[0m \u001b[0mv\u001b[0m \u001b[0;32min\u001b[0m \u001b[0mlocal_state_dict\u001b[0m\u001b[0;34m.\u001b[0m\u001b[0mitems\u001b[0m\u001b[0;34m(\u001b[0m\u001b[0;34m)\u001b[0m \u001b[0;32mif\u001b[0m \u001b[0mk\u001b[0m\u001b[0;34m.\u001b[0m\u001b[0mstartswith\u001b[0m\u001b[0;34m(\u001b[0m\u001b[0mchild_prefix\u001b[0m\u001b[0;34m)\u001b[0m\u001b[0;34m}\u001b[0m\u001b[0;34m\u001b[0m\u001b[0;34m\u001b[0m\u001b[0m\n\u001b[0;32m-> 2015\u001b[0;31m                     \u001b[0mload\u001b[0m\u001b[0;34m(\u001b[0m\u001b[0mchild\u001b[0m\u001b[0;34m,\u001b[0m \u001b[0mchild_state_dict\u001b[0m\u001b[0;34m,\u001b[0m \u001b[0mchild_prefix\u001b[0m\u001b[0;34m)\u001b[0m\u001b[0;34m\u001b[0m\u001b[0;34m\u001b[0m\u001b[0m\n\u001b[0m\u001b[1;32m   2016\u001b[0m \u001b[0;34m\u001b[0m\u001b[0m\n\u001b[1;32m   2017\u001b[0m             \u001b[0;31m# Note that the hook can modify missing_keys and unexpected_keys.\u001b[0m\u001b[0;34m\u001b[0m\u001b[0;34m\u001b[0m\u001b[0m\n",
      "\u001b[0;32m~/.local/lib/python3.10/site-packages/torch/nn/modules/module.py\u001b[0m in \u001b[0;36mload\u001b[0;34m(module, local_state_dict, prefix)\u001b[0m\n\u001b[1;32m   2007\u001b[0m         \u001b[0;32mdef\u001b[0m \u001b[0mload\u001b[0m\u001b[0;34m(\u001b[0m\u001b[0mmodule\u001b[0m\u001b[0;34m,\u001b[0m \u001b[0mlocal_state_dict\u001b[0m\u001b[0;34m,\u001b[0m \u001b[0mprefix\u001b[0m\u001b[0;34m=\u001b[0m\u001b[0;34m''\u001b[0m\u001b[0;34m)\u001b[0m\u001b[0;34m:\u001b[0m\u001b[0;34m\u001b[0m\u001b[0;34m\u001b[0m\u001b[0m\n\u001b[1;32m   2008\u001b[0m             \u001b[0mlocal_metadata\u001b[0m \u001b[0;34m=\u001b[0m \u001b[0;34m{\u001b[0m\u001b[0;34m}\u001b[0m \u001b[0;32mif\u001b[0m \u001b[0mmetadata\u001b[0m \u001b[0;32mis\u001b[0m \u001b[0;32mNone\u001b[0m \u001b[0;32melse\u001b[0m \u001b[0mmetadata\u001b[0m\u001b[0;34m.\u001b[0m\u001b[0mget\u001b[0m\u001b[0;34m(\u001b[0m\u001b[0mprefix\u001b[0m\u001b[0;34m[\u001b[0m\u001b[0;34m:\u001b[0m\u001b[0;34m-\u001b[0m\u001b[0;36m1\u001b[0m\u001b[0;34m]\u001b[0m\u001b[0;34m,\u001b[0m \u001b[0;34m{\u001b[0m\u001b[0;34m}\u001b[0m\u001b[0;34m)\u001b[0m\u001b[0;34m\u001b[0m\u001b[0;34m\u001b[0m\u001b[0m\n\u001b[0;32m-> 2009\u001b[0;31m             module._load_from_state_dict(\n\u001b[0m\u001b[1;32m   2010\u001b[0m                 local_state_dict, prefix, local_metadata, True, missing_keys, unexpected_keys, error_msgs)\n\u001b[1;32m   2011\u001b[0m             \u001b[0;32mfor\u001b[0m \u001b[0mname\u001b[0m\u001b[0;34m,\u001b[0m \u001b[0mchild\u001b[0m \u001b[0;32min\u001b[0m \u001b[0mmodule\u001b[0m\u001b[0;34m.\u001b[0m\u001b[0m_modules\u001b[0m\u001b[0;34m.\u001b[0m\u001b[0mitems\u001b[0m\u001b[0;34m(\u001b[0m\u001b[0;34m)\u001b[0m\u001b[0;34m:\u001b[0m\u001b[0;34m\u001b[0m\u001b[0;34m\u001b[0m\u001b[0m\n",
      "\u001b[0;32m~/.local/lib/python3.10/site-packages/torch/nn/modules/module.py\u001b[0m in \u001b[0;36m_load_from_state_dict\u001b[0;34m(self, state_dict, prefix, local_metadata, strict, missing_keys, unexpected_keys, error_msgs)\u001b[0m\n\u001b[1;32m   1940\u001b[0m                 \u001b[0;32mtry\u001b[0m\u001b[0;34m:\u001b[0m\u001b[0;34m\u001b[0m\u001b[0;34m\u001b[0m\u001b[0m\n\u001b[1;32m   1941\u001b[0m                     \u001b[0;32mwith\u001b[0m \u001b[0mtorch\u001b[0m\u001b[0;34m.\u001b[0m\u001b[0mno_grad\u001b[0m\u001b[0;34m(\u001b[0m\u001b[0;34m)\u001b[0m\u001b[0;34m:\u001b[0m\u001b[0;34m\u001b[0m\u001b[0;34m\u001b[0m\u001b[0m\n\u001b[0;32m-> 1942\u001b[0;31m                         \u001b[0mparam\u001b[0m\u001b[0;34m.\u001b[0m\u001b[0mcopy_\u001b[0m\u001b[0;34m(\u001b[0m\u001b[0minput_param\u001b[0m\u001b[0;34m)\u001b[0m\u001b[0;34m\u001b[0m\u001b[0;34m\u001b[0m\u001b[0m\n\u001b[0m\u001b[1;32m   1943\u001b[0m                 \u001b[0;32mexcept\u001b[0m \u001b[0mException\u001b[0m \u001b[0;32mas\u001b[0m \u001b[0mex\u001b[0m\u001b[0;34m:\u001b[0m\u001b[0;34m\u001b[0m\u001b[0;34m\u001b[0m\u001b[0m\n\u001b[1;32m   1944\u001b[0m                     error_msgs.append('While copying the parameter named \"{}\", '\n",
      "\u001b[0;31mKeyboardInterrupt\u001b[0m: "
     ]
    }
   ],
   "source": [
    "list = []\n",
    "for filename in os.listdir(\"/home/jszumny/Documents/copy of smoke data/newnew/sage-training/clouds/\"):\n",
    "\n",
    "    if \"._\" not in filename and \".DS_Store\" not in filename:\n",
    "        \n",
    "        resnet18.load_state_dict(torch.load('/home/jszumny/Documents/copy of smoke data/newnew/attempts/3features/resnet18model.pt',map_location=torch.device('cpu')))\n",
    "\n",
    "        # for param in resnet18.features.parameters():\n",
    "        #     param.require_grad = False\n",
    "        class_names = ['cloud', 'other', 'smoke']\n",
    "\n",
    "        # num_features = vgg16.classifier[6].in_features\n",
    "        # features = list(vgg16.classifier.children())[:-1] # Remove last layer\n",
    "        # features.extend([nn.Linear(num_features, len(class_names))]) # Add our layer with 4 outputs\n",
    "        # vgg16.classifier = nn.Sequential(*features) # Replace the model classifier\n",
    "        \n",
    "        image = Image.open(\"/home/jszumny/Documents/copy of smoke data/newnew/sage-training/clouds/\" + filename)\n",
    "        image = image.crop((874, 874, 1174, 1174))\n",
    "        img_t = transform(image)\n",
    "        batch_t = torch.unsqueeze(img_t, 0)\n",
    "    \n",
    "        resnet18.eval()\n",
    "        out = resnet18(batch_t)\n",
    "    \n",
    "        _, index = torch.max(out, 1)\n",
    "    \n",
    "        percentage = torch.nn.functional.softmax(out, dim=1)[0] * 100\n",
    "        \n",
    "        d = {\"Class\": class_names[index[0]], \"Percentage\": percentage[index[0]].item()}\n",
    "        list.append(d)\n",
    "\n",
    "import pandas as pd\n",
    "df = pd.DataFrame(list)"
   ]
  },
  {
   "cell_type": "code",
   "execution_count": null,
   "metadata": {},
   "outputs": [
    {
     "data": {
      "text/plain": [
       "0.008974358974358974"
      ]
     },
     "execution_count": 54,
     "metadata": {},
     "output_type": "execute_result"
    }
   ],
   "source": [
    "len(df[df.Class == \"smoke\"]) / len(df)\n"
   ]
  },
  {
   "cell_type": "code",
   "execution_count": 29,
   "metadata": {},
   "outputs": [
    {
     "name": "stderr",
     "output_type": "stream",
     "text": [
      "Using cache found in /home/jszumny/.cache/torch/hub/pytorch_vision_v0.10.0\n",
      "/home/jszumny/.local/lib/python3.10/site-packages/torchvision/models/_utils.py:208: UserWarning: The parameter 'pretrained' is deprecated since 0.13 and may be removed in the future, please use 'weights' instead.\n",
      "  warnings.warn(\n",
      "/home/jszumny/.local/lib/python3.10/site-packages/torchvision/models/_utils.py:223: UserWarning: Arguments other than a weight enum or `None` for 'weights' are deprecated since 0.13 and may be removed in the future. The current behavior is equivalent to passing `weights=ResNet34_Weights.IMAGENET1K_V1`. You can also use `weights=ResNet34_Weights.DEFAULT` to get the most up-to-date weights.\n",
      "  warnings.warn(msg)\n"
     ]
    }
   ],
   "source": [
    "# resnet18 = torch.hub.load('pytorch/vision:v0.10.0', 'resnet18', pretrained=True)\n",
    "resnet34 = torch.hub.load('pytorch/vision:v0.10.0', 'resnet34', pretrained=True)\n",
    "# resnet50 = torch.hub.load('pytorch/vision:v0.10.0', 'resnet50', pretrained=True)\n",
    "# num_features = resnet18.fc.in_features     #extract fc layers features\n",
    "# resnet18.fc = nn.Linear(num_features, 3) #(num_of_class == 2)\n",
    "\n",
    "\n",
    "num_features = resnet34.fc.in_features     #extract fc layers features\n",
    "resnet34.fc = nn.Linear(num_features, 3) #(num_of_class == 2)\n",
    "\n",
    "\n",
    "# num_features = resnet50.fc.in_features     #extract fc layers features\n",
    "# resnet50.fc = nn.Linear(num_features, 3) #(num_of_class == 2)\n",
    "\n",
    "\n",
    "\n",
    "list = []\n",
    "for filename in os.listdir(\"/home/jszumny/Documents/copy of smoke data/newnew/sage-training/clear_sky/\"):\n",
    "\n",
    "    if \"._\" not in filename and \".DS_Store\" not in filename:\n",
    "        \n",
    "        resnet34.load_state_dict(torch.load('/home/jszumny/Documents/copy of smoke data/newnew/attempts/3features/resnet34model.pt',map_location=torch.device('cpu')))\n",
    "        \n",
    "\n",
    "        # for param in resnet18.features.parameters():\n",
    "        #     param.require_grad = False\n",
    "        class_names = ['cloud', 'other', 'smoke']\n",
    "\n",
    "        # num_features = vgg16.classifier[6].in_features\n",
    "        # features = list(vgg16.classifier.children())[:-1] # Remove last layer\n",
    "        # features.extend([nn.Linear(num_features, len(class_names))]) # Add our layer with 4 outputs\n",
    "        # vgg16.classifier = nn.Sequential(*features) # Replace the model classifier\n",
    "        \n",
    "        image = Image.open(\"/home/jszumny/Documents/copy of smoke data/newnew/sage-training/clear_sky/\" + filename)\n",
    "        image = image.crop((874, 874, 1174, 1174))\n",
    "        img_t = transform(image)\n",
    "        batch_t = torch.unsqueeze(img_t, 0)\n",
    "    \n",
    "        resnet34.eval()\n",
    "        out = resnet34(batch_t)\n",
    "    \n",
    "        _, index = torch.max(out, 1)\n",
    "    \n",
    "        percentage = torch.nn.functional.softmax(out, dim=1)[0] * 100\n",
    "        \n",
    "        d = {\"Class\": class_names[index[0]], \"Percentage\": percentage[index[0]].item()}\n",
    "        list.append(d)\n",
    "\n",
    "import pandas as pd\n",
    "df = pd.DataFrame(list)"
   ]
  },
  {
   "cell_type": "code",
   "execution_count": 30,
   "metadata": {},
   "outputs": [
    {
     "data": {
      "text/html": [
       "<div>\n",
       "<style scoped>\n",
       "    .dataframe tbody tr th:only-of-type {\n",
       "        vertical-align: middle;\n",
       "    }\n",
       "\n",
       "    .dataframe tbody tr th {\n",
       "        vertical-align: top;\n",
       "    }\n",
       "\n",
       "    .dataframe thead th {\n",
       "        text-align: right;\n",
       "    }\n",
       "</style>\n",
       "<table border=\"1\" class=\"dataframe\">\n",
       "  <thead>\n",
       "    <tr style=\"text-align: right;\">\n",
       "      <th></th>\n",
       "      <th>Class</th>\n",
       "      <th>Percentage</th>\n",
       "    </tr>\n",
       "  </thead>\n",
       "  <tbody>\n",
       "  </tbody>\n",
       "</table>\n",
       "</div>"
      ],
      "text/plain": [
       "Empty DataFrame\n",
       "Columns: [Class, Percentage]\n",
       "Index: []"
      ]
     },
     "execution_count": 30,
     "metadata": {},
     "output_type": "execute_result"
    }
   ],
   "source": [
    "df[df.Class == \"smoke\"]"
   ]
  },
  {
   "cell_type": "code",
   "execution_count": 31,
   "metadata": {},
   "outputs": [],
   "source": [
    "list = []\n",
    "for filename in os.listdir(\"/home/jszumny/Documents/copy of smoke data/newnew/sage-training/clouds/\"):\n",
    "\n",
    "    if \"._\" not in filename and \".DS_Store\" not in filename:\n",
    "        \n",
    "        resnet34.load_state_dict(torch.load('/home/jszumny/Documents/copy of smoke data/newnew/attempts/3features/resnet34model.pt',map_location=torch.device('cpu')))\n",
    "        \n",
    "\n",
    "        # for param in resnet18.features.parameters():\n",
    "        #     param.require_grad = False\n",
    "        class_names = ['cloud', 'other', 'smoke']\n",
    "\n",
    "        # num_features = vgg16.classifier[6].in_features\n",
    "        # features = list(vgg16.classifier.children())[:-1] # Remove last layer\n",
    "        # features.extend([nn.Linear(num_features, len(class_names))]) # Add our layer with 4 outputs\n",
    "        # vgg16.classifier = nn.Sequential(*features) # Replace the model classifier\n",
    "        \n",
    "        image = Image.open(\"/home/jszumny/Documents/copy of smoke data/newnew/sage-training/clouds/\" + filename)\n",
    "        image = image.crop((874, 874, 1174, 1174))\n",
    "        img_t = transform(image)\n",
    "        batch_t = torch.unsqueeze(img_t, 0)\n",
    "    \n",
    "        resnet34.eval()\n",
    "        out = resnet34(batch_t)\n",
    "    \n",
    "        _, index = torch.max(out, 1)\n",
    "    \n",
    "        percentage = torch.nn.functional.softmax(out, dim=1)[0] * 100\n",
    "        \n",
    "        d = {\"Class\": class_names[index[0]], \"Percentage\": percentage[index[0]].item()}\n",
    "        list.append(d)\n",
    "\n",
    "import pandas as pd\n",
    "df = pd.DataFrame(list)"
   ]
  },
  {
   "cell_type": "code",
   "execution_count": 32,
   "metadata": {},
   "outputs": [
    {
     "data": {
      "text/plain": [
       "0.046153846153846156"
      ]
     },
     "execution_count": 32,
     "metadata": {},
     "output_type": "execute_result"
    }
   ],
   "source": [
    "len(df[df.Class == \"smoke\"]) / len(df)"
   ]
  },
  {
   "cell_type": "code",
   "execution_count": 25,
   "metadata": {},
   "outputs": [],
   "source": [
    "list = []\n",
    "for filename in os.listdir(\"/home/jszumny/Documents/copy of smoke data/newnew/sage-training/obstructed/\"):\n",
    "\n",
    "    if \"._\" not in filename and \".DS_Store\" not in filename:\n",
    "        \n",
    "        resnet34.load_state_dict(torch.load('/home/jszumny/Documents/copy of smoke data/newnew/attempts/3features/resnet34model.pt',map_location=torch.device('cpu')))\n",
    "        \n",
    "\n",
    "        # for param in resnet18.features.parameters():\n",
    "        #     param.require_grad = False\n",
    "        class_names = ['cloud', 'other', 'smoke']\n",
    "\n",
    "        # num_features = vgg16.classifier[6].in_features\n",
    "        # features = list(vgg16.classifier.children())[:-1] # Remove last layer\n",
    "        # features.extend([nn.Linear(num_features, len(class_names))]) # Add our layer with 4 outputs\n",
    "        # vgg16.classifier = nn.Sequential(*features) # Replace the model classifier\n",
    "        \n",
    "        image = Image.open(\"/home/jszumny/Documents/copy of smoke data/newnew/sage-training/obstructed/\" + filename)\n",
    "        image = image.crop((874, 874, 1174, 1174))\n",
    "        img_t = transform(image)\n",
    "        batch_t = torch.unsqueeze(img_t, 0)\n",
    "    \n",
    "        resnet34.eval()\n",
    "        out = resnet34(batch_t)\n",
    "    \n",
    "        _, index = torch.max(out, 1)\n",
    "    \n",
    "        percentage = torch.nn.functional.softmax(out, dim=1)[0] * 100\n",
    "        \n",
    "        d = {\"Class\": class_names[index[0]], \"Percentage\": percentage[index[0]].item()}\n",
    "        list.append(d)\n",
    "\n",
    "import pandas as pd\n",
    "df = pd.DataFrame(list)"
   ]
  },
  {
   "cell_type": "code",
   "execution_count": 28,
   "metadata": {},
   "outputs": [
    {
     "data": {
      "text/plain": [
       "0.021929824561403508"
      ]
     },
     "execution_count": 28,
     "metadata": {},
     "output_type": "execute_result"
    }
   ],
   "source": [
    "len(df[df.Class == \"smoke\"]) / len(df)"
   ]
  },
  {
   "cell_type": "code",
   "execution_count": 34,
   "metadata": {},
   "outputs": [
    {
     "name": "stderr",
     "output_type": "stream",
     "text": [
      "Using cache found in /home/jszumny/.cache/torch/hub/pytorch_vision_v0.10.0\n"
     ]
    }
   ],
   "source": [
    "list = []\n",
    "\n",
    "\n",
    "resnet50 = torch.hub.load('pytorch/vision:v0.10.0', 'resnet50', pretrained=True)\n",
    "\n",
    "num_features = resnet50.fc.in_features     #extract fc layers features\n",
    "resnet50.fc = nn.Linear(num_features, 3) #(num_of_class == 2)\n",
    "\n",
    "for filename in os.listdir(\"/home/jszumny/Documents/copy of smoke data/newnew/sage-training/obstructed/\"):\n",
    "\n",
    "    if \"._\" not in filename and \".DS_Store\" not in filename:\n",
    "        \n",
    "        resnet50.load_state_dict(torch.load('/home/jszumny/Documents/copy of smoke data/newnew/attempts/3features/resnet50model.pt',map_location=torch.device('cpu')))\n",
    "        \n",
    "\n",
    "        # for param in resnet18.features.parameters():\n",
    "        #     param.require_grad = False\n",
    "        class_names = ['cloud', 'other', 'smoke']\n",
    "\n",
    "        # num_features = vgg16.classifier[6].in_features\n",
    "        # features = list(vgg16.classifier.children())[:-1] # Remove last layer\n",
    "        # features.extend([nn.Linear(num_features, len(class_names))]) # Add our layer with 4 outputs\n",
    "        # vgg16.classifier = nn.Sequential(*features) # Replace the model classifier\n",
    "        \n",
    "        image = Image.open(\"/home/jszumny/Documents/copy of smoke data/newnew/sage-training/obstructed/\" + filename)\n",
    "        image = image.crop((874, 874, 1174, 1174))\n",
    "        img_t = transform(image)\n",
    "        batch_t = torch.unsqueeze(img_t, 0)\n",
    "    \n",
    "        resnet50.eval()\n",
    "        out = resnet50(batch_t)\n",
    "    \n",
    "        _, index = torch.max(out, 1)\n",
    "    \n",
    "        percentage = torch.nn.functional.softmax(out, dim=1)[0] * 100\n",
    "        \n",
    "        d = {\"Class\": class_names[index[0]], \"Percentage\": percentage[index[0]].item()}\n",
    "        list.append(d)\n",
    "\n",
    "import pandas as pd\n",
    "df = pd.DataFrame(list)"
   ]
  },
  {
   "cell_type": "code",
   "execution_count": 37,
   "metadata": {},
   "outputs": [
    {
     "data": {
      "text/plain": [
       "0.05921052631578947"
      ]
     },
     "execution_count": 37,
     "metadata": {},
     "output_type": "execute_result"
    }
   ],
   "source": [
    "len(df[df.Class == \"smoke\"])/ len(df)"
   ]
  },
  {
   "cell_type": "code",
   "execution_count": 38,
   "metadata": {},
   "outputs": [
    {
     "name": "stderr",
     "output_type": "stream",
     "text": [
      "Using cache found in /home/jszumny/.cache/torch/hub/pytorch_vision_v0.10.0\n",
      "/home/jszumny/.local/lib/python3.10/site-packages/torchvision/models/_utils.py:208: UserWarning: The parameter 'pretrained' is deprecated since 0.13 and may be removed in the future, please use 'weights' instead.\n",
      "  warnings.warn(\n",
      "/home/jszumny/.local/lib/python3.10/site-packages/torchvision/models/_utils.py:223: UserWarning: Arguments other than a weight enum or `None` for 'weights' are deprecated since 0.13 and may be removed in the future. The current behavior is equivalent to passing `weights=ResNet50_Weights.IMAGENET1K_V1`. You can also use `weights=ResNet50_Weights.DEFAULT` to get the most up-to-date weights.\n",
      "  warnings.warn(msg)\n"
     ]
    }
   ],
   "source": [
    "list = []\n",
    "\n",
    "\n",
    "resnet50 = torch.hub.load('pytorch/vision:v0.10.0', 'resnet50', pretrained=True)\n",
    "\n",
    "num_features = resnet50.fc.in_features     #extract fc layers features\n",
    "resnet50.fc = nn.Linear(num_features, 3) #(num_of_class == 2)\n",
    "\n",
    "for filename in os.listdir(\"/home/jszumny/Documents/copy of smoke data/newnew/sage-training/clear_sky/\"):\n",
    "\n",
    "    if \"._\" not in filename and \".DS_Store\" not in filename:\n",
    "        \n",
    "        resnet50.load_state_dict(torch.load('/home/jszumny/Documents/copy of smoke data/newnew/attempts/3features/resnet50model.pt',map_location=torch.device('cpu')))\n",
    "        \n",
    "\n",
    "        # for param in resnet18.features.parameters():\n",
    "        #     param.require_grad = False\n",
    "        class_names = ['cloud', 'other', 'smoke']\n",
    "\n",
    "        # num_features = vgg16.classifier[6].in_features\n",
    "        # features = list(vgg16.classifier.children())[:-1] # Remove last layer\n",
    "        # features.extend([nn.Linear(num_features, len(class_names))]) # Add our layer with 4 outputs\n",
    "        # vgg16.classifier = nn.Sequential(*features) # Replace the model classifier\n",
    "        \n",
    "        image = Image.open(\"/home/jszumny/Documents/copy of smoke data/newnew/sage-training/clear_sky/\" + filename)\n",
    "        image = image.crop((874, 874, 1174, 1174))\n",
    "        img_t = transform(image)\n",
    "        batch_t = torch.unsqueeze(img_t, 0)\n",
    "    \n",
    "        resnet50.eval()\n",
    "        out = resnet50(batch_t)\n",
    "    \n",
    "        _, index = torch.max(out, 1)\n",
    "    \n",
    "        percentage = torch.nn.functional.softmax(out, dim=1)[0] * 100\n",
    "        \n",
    "        d = {\"Class\": class_names[index[0]], \"Percentage\": percentage[index[0]].item()}\n",
    "        list.append(d)\n",
    "\n",
    "import pandas as pd\n",
    "df = pd.DataFrame(list)"
   ]
  },
  {
   "cell_type": "code",
   "execution_count": 40,
   "metadata": {},
   "outputs": [
    {
     "data": {
      "text/html": [
       "<div>\n",
       "<style scoped>\n",
       "    .dataframe tbody tr th:only-of-type {\n",
       "        vertical-align: middle;\n",
       "    }\n",
       "\n",
       "    .dataframe tbody tr th {\n",
       "        vertical-align: top;\n",
       "    }\n",
       "\n",
       "    .dataframe thead th {\n",
       "        text-align: right;\n",
       "    }\n",
       "</style>\n",
       "<table border=\"1\" class=\"dataframe\">\n",
       "  <thead>\n",
       "    <tr style=\"text-align: right;\">\n",
       "      <th></th>\n",
       "      <th>Class</th>\n",
       "      <th>Percentage</th>\n",
       "    </tr>\n",
       "  </thead>\n",
       "  <tbody>\n",
       "  </tbody>\n",
       "</table>\n",
       "</div>"
      ],
      "text/plain": [
       "Empty DataFrame\n",
       "Columns: [Class, Percentage]\n",
       "Index: []"
      ]
     },
     "execution_count": 40,
     "metadata": {},
     "output_type": "execute_result"
    }
   ],
   "source": [
    "df[df.Class == \"smoke\"]"
   ]
  },
  {
   "cell_type": "code",
   "execution_count": 41,
   "metadata": {},
   "outputs": [
    {
     "name": "stderr",
     "output_type": "stream",
     "text": [
      "Using cache found in /home/jszumny/.cache/torch/hub/pytorch_vision_v0.10.0\n",
      "/home/jszumny/.local/lib/python3.10/site-packages/torchvision/models/_utils.py:208: UserWarning: The parameter 'pretrained' is deprecated since 0.13 and may be removed in the future, please use 'weights' instead.\n",
      "  warnings.warn(\n",
      "/home/jszumny/.local/lib/python3.10/site-packages/torchvision/models/_utils.py:223: UserWarning: Arguments other than a weight enum or `None` for 'weights' are deprecated since 0.13 and may be removed in the future. The current behavior is equivalent to passing `weights=ResNet50_Weights.IMAGENET1K_V1`. You can also use `weights=ResNet50_Weights.DEFAULT` to get the most up-to-date weights.\n",
      "  warnings.warn(msg)\n"
     ]
    }
   ],
   "source": [
    "list = []\n",
    "\n",
    "\n",
    "resnet50 = torch.hub.load('pytorch/vision:v0.10.0', 'resnet50', pretrained=True)\n",
    "\n",
    "num_features = resnet50.fc.in_features     #extract fc layers features\n",
    "resnet50.fc = nn.Linear(num_features, 3) #(num_of_class == 2)\n",
    "\n",
    "for filename in os.listdir(\"/home/jszumny/Documents/copy of smoke data/newnew/sage-training/clouds/\"):\n",
    "\n",
    "    if \"._\" not in filename and \".DS_Store\" not in filename:\n",
    "        \n",
    "        resnet50.load_state_dict(torch.load('/home/jszumny/Documents/copy of smoke data/newnew/attempts/3features/resnet50model.pt',map_location=torch.device('cpu')))\n",
    "        \n",
    "\n",
    "        # for param in resnet18.features.parameters():\n",
    "        #     param.require_grad = False\n",
    "        class_names = ['cloud', 'other', 'smoke']\n",
    "\n",
    "        # num_features = vgg16.classifier[6].in_features\n",
    "        # features = list(vgg16.classifier.children())[:-1] # Remove last layer\n",
    "        # features.extend([nn.Linear(num_features, len(class_names))]) # Add our layer with 4 outputs\n",
    "        # vgg16.classifier = nn.Sequential(*features) # Replace the model classifier\n",
    "        \n",
    "        image = Image.open(\"/home/jszumny/Documents/copy of smoke data/newnew/sage-training/clouds/\" + filename)\n",
    "        image = image.crop((874, 874, 1174, 1174))\n",
    "        img_t = transform(image)\n",
    "        batch_t = torch.unsqueeze(img_t, 0)\n",
    "    \n",
    "        resnet50.eval()\n",
    "        out = resnet50(batch_t)\n",
    "    \n",
    "        _, index = torch.max(out, 1)\n",
    "    \n",
    "        percentage = torch.nn.functional.softmax(out, dim=1)[0] * 100\n",
    "        \n",
    "        d = {\"Class\": class_names[index[0]], \"Percentage\": percentage[index[0]].item()}\n",
    "        list.append(d)\n",
    "\n",
    "import pandas as pd\n",
    "df = pd.DataFrame(list)"
   ]
  },
  {
   "cell_type": "code",
   "execution_count": 44,
   "metadata": {},
   "outputs": [
    {
     "data": {
      "text/plain": [
       "0.019230769230769232"
      ]
     },
     "execution_count": 44,
     "metadata": {},
     "output_type": "execute_result"
    }
   ],
   "source": [
    "len(df[df.Class == \"smoke\"]) / len(df)"
   ]
  },
  {
   "cell_type": "code",
   "execution_count": null,
   "metadata": {},
   "outputs": [],
   "source": []
  }
 ],
 "metadata": {
  "kernelspec": {
   "display_name": "Python 3",
   "language": "python",
   "name": "python3"
  },
  "language_info": {
   "codemirror_mode": {
    "name": "ipython",
    "version": 3
   },
   "file_extension": ".py",
   "mimetype": "text/x-python",
   "name": "python",
   "nbconvert_exporter": "python",
   "pygments_lexer": "ipython3",
   "version": "3.10.6"
  },
  "orig_nbformat": 4
 },
 "nbformat": 4,
 "nbformat_minor": 2
}
