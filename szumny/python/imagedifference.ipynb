{
 "cells": [
  {
   "cell_type": "code",
   "execution_count": 1,
   "metadata": {},
   "outputs": [],
   "source": [
    "import cv2\n",
    "import numpy as np\n",
    "from PIL import Image\n"
   ]
  },
  {
   "cell_type": "code",
   "execution_count": 2,
   "metadata": {},
   "outputs": [],
   "source": [
    "img1 = cv2.imread('/home/jszumny/Documents/test/34.jpg')\n",
    "img2 = cv2.imread('/home/jszumny/Documents/test/34f.jpg')\n",
    "img1 = cv2.cvtColor(img1, cv2.COLOR_BGR2GRAY)\n",
    "img2 = cv2.cvtColor(img2, cv2.COLOR_BGR2GRAY)"
   ]
  },
  {
   "cell_type": "code",
   "execution_count": 3,
   "metadata": {},
   "outputs": [],
   "source": [
    "def mse(img1, img2):\n",
    "   h, w = img1.shape\n",
    "   diff = cv2.subtract(img1, img2)\n",
    "   err = np.sum(diff**2)\n",
    "   mse = err/(float(h*w))\n",
    "   return mse, diff"
   ]
  },
  {
   "cell_type": "code",
   "execution_count": 3,
   "metadata": {},
   "outputs": [
    {
     "ename": "NameError",
     "evalue": "name 'mse' is not defined",
     "output_type": "error",
     "traceback": [
      "\u001b[0;31m---------------------------------------------------------------------------\u001b[0m",
      "\u001b[0;31mNameError\u001b[0m                                 Traceback (most recent call last)",
      "\u001b[0;32m/tmp/ipykernel_3056809/1634319704.py\u001b[0m in \u001b[0;36m<module>\u001b[0;34m\u001b[0m\n\u001b[0;32m----> 1\u001b[0;31m \u001b[0merror\u001b[0m \u001b[0;34m=\u001b[0m \u001b[0mmse\u001b[0m\u001b[0;34m(\u001b[0m\u001b[0mimg1\u001b[0m\u001b[0;34m,\u001b[0m \u001b[0mimg2\u001b[0m\u001b[0;34m)\u001b[0m\u001b[0;34m\u001b[0m\u001b[0;34m\u001b[0m\u001b[0m\n\u001b[0m",
      "\u001b[0;31mNameError\u001b[0m: name 'mse' is not defined"
     ]
    }
   ],
   "source": [
    "error = mse(img1, img2)"
   ]
  },
  {
   "cell_type": "code",
   "execution_count": 4,
   "metadata": {},
   "outputs": [
    {
     "name": "stdout",
     "output_type": "stream",
     "text": [
      "Image matching Error between the two images: 3.7985092474489797\n"
     ]
    }
   ],
   "source": [
    "def mse(img1, img2):\n",
    "   h, w = img1.shape\n",
    "   diff = cv2.subtract(img1, img2)\n",
    "   err = np.sum(diff**2)\n",
    "   mse = err/(float(h*w))\n",
    "   return mse, diff\n",
    "\n",
    "error, diff = mse(img1, img2)\n",
    "print(\"Image matching Error between the two images:\",error)\n",
    "\n",
    "cv2.imshow(\"difference\", diff)\n",
    "cv2.waitKey(0)\n",
    "cv2.destroyAllWindows()\n"
   ]
  },
  {
   "cell_type": "code",
   "execution_count": 4,
   "metadata": {},
   "outputs": [
    {
     "name": "stdout",
     "output_type": "stream",
     "text": [
      "Image matching Error between the two images: 38.969746492346935\n"
     ]
    }
   ],
   "source": [
    "img1 = cv2.imread('/home/jszumny/Documents/test/00.jpg')\n",
    "img2 = cv2.imread('/home/jszumny/Documents/test/00f.jpg')\n",
    "img1 = cv2.cvtColor(img1, cv2.COLOR_BGR2GRAY)\n",
    "img2 = cv2.cvtColor(img2, cv2.COLOR_BGR2GRAY)\n",
    "\n",
    "error, diff = mse(img1, img2)\n",
    "print(\"Image matching Error between the two images:\",error)\n",
    "\n",
    "cv2.imshow(\"difference\", diff)\n",
    "cv2.waitKey(0)\n",
    "cv2.destroyAllWindows()"
   ]
  },
  {
   "cell_type": "code",
   "execution_count": 3,
   "metadata": {},
   "outputs": [],
   "source": [
    "fullimage = Image.open(\"/home/jszumny/Arm Data/enatwrcamtarmacC1.a1.20221001.001123.jpg/enatwrcamtarmacC1.a1.20221001.145923.jpg\")\n",
    "fullimage = fullimage.resize((2688, 2240))\n",
    "\n",
    "for i in range(12):\n",
    "    for k in range(10):\n",
    "        \n",
    "        tile = fullimage.crop((i*224, k*224, (i+1)*224, (k+1)*224))\n",
    "        tile.save('/home/jszumny/Documents/test/' + str(i) + str(k) + '.jpg')\n",
    "                \n",
    "                \n",
    "                \n",
    "                "
   ]
  },
  {
   "cell_type": "code",
   "execution_count": 5,
   "metadata": {},
   "outputs": [],
   "source": [
    "fullimage = Image.open(\"/home/jszumny/Arm Data/enatwrcamtarmacC1.a1.20221001.001123.jpg/enatwrcamtarmacC1.a1.20221001.150023.jpg\")\n",
    "fullimage = fullimage.resize((2688, 2240))\n",
    "\n",
    "for i in range(12):\n",
    "    for k in range(10):\n",
    "        \n",
    "        tile = fullimage.crop((i*224, k*224, (i+1)*224, (k+1)*224))\n",
    "        tile.save('/home/jszumny/Documents/test/' + str(i) + str(k) + 'f.jpg')\n",
    "                \n",
    "                \n",
    "                \n",
    "                "
   ]
  },
  {
   "cell_type": "code",
   "execution_count": null,
   "metadata": {},
   "outputs": [],
   "source": []
  }
 ],
 "metadata": {
  "kernelspec": {
   "display_name": "Python 3",
   "language": "python",
   "name": "python3"
  },
  "language_info": {
   "codemirror_mode": {
    "name": "ipython",
    "version": 3
   },
   "file_extension": ".py",
   "mimetype": "text/x-python",
   "name": "python",
   "nbconvert_exporter": "python",
   "pygments_lexer": "ipython3",
   "version": "3.10.6"
  },
  "orig_nbformat": 4
 },
 "nbformat": 4,
 "nbformat_minor": 2
}
