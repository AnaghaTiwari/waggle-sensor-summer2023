{
 "cells": [
  {
   "cell_type": "code",
   "execution_count": 6,
   "metadata": {},
   "outputs": [],
   "source": [
    "import os\n",
    "from PIL import Image\n",
    "import random\n",
    "\n",
    "list = [\"20160604_FIRE_rm-n-mobo-c\", \"20160604_FIRE_smer-tcs3-mobo-c\", \"20191006_FIRE_pi-s-mobo-c\", \"20190924_FIRE_wc-e-mobo-c\",\n",
    "        '20190814_FIRE_om-e-mobo-c', \"20190728_Dehesa_lp-n-mobo\", \"20180806_Holy_sp-s-mobo-m\", \"20180612_FIRE_rm-w-mobo-c\",\n",
    "        \"20180504_FIRE_bh-n-mobo-c\" , '20190924_FIRE_bl-s-mobo-c', \"20170627_FIRE_lp-n-iqeye\", \"20180806_FIRE_mg-s-mobo-c\" ]"
   ]
  },
  {
   "cell_type": "code",
   "execution_count": 7,
   "metadata": {},
   "outputs": [],
   "source": [
    "directory = \"/home/jszumny/Documents/copy of smoke data/newnew/newground/\"\n",
    "\n",
    "for filename in os.listdir(directory):\n",
    "\n",
    "    f = filename[:filename.find(\"_1\")]\n",
    "    image = Image.open(directory + filename)\n",
    "\n",
    "    if f not in list:\n",
    "        choice1 = random.choice([0,1])\n",
    "        if choice1 == 0:\n",
    "            choice = random.choice([0,0,0,0,0,0,0,0,1,1])\n",
    "            \n",
    "            if choice == 0:\n",
    "                image.save(\"/home/jszumny/Documents/copy of smoke data/newnew/attempts/3features/train/other/\" +filename)\n",
    "            if choice == 1:\n",
    "                image.save(\"/home/jszumny/Documents/copy of smoke data/newnew/attempts/3features/val/other/\" +filename)\n",
    "        \n",
    "    else:\n",
    "        image.save(\"/home/jszumny/Documents/copy of smoke data/newnew/attempts/3features/test/other/\" +filename)\n",
    "\n"
   ]
  },
  {
   "cell_type": "code",
   "execution_count": 8,
   "metadata": {},
   "outputs": [],
   "source": [
    "directory = \"/home/jszumny/Documents/copy of smoke data/newnew/newsky/\"\n",
    "\n",
    "for filename in os.listdir(directory):\n",
    "\n",
    "    f = filename[:filename.find(\"_1\")]\n",
    "    image = Image.open(directory + filename)\n",
    "\n",
    "    if f not in list:\n",
    "        choice1 = random.choice([0,1])\n",
    "        if choice1 == 0:\n",
    "            choice = random.choice([0,0,0,0,0,0,0,0,1,1])\n",
    "            \n",
    "            if choice == 0:\n",
    "                image.save(\"/home/jszumny/Documents/copy of smoke data/newnew/attempts/3features/train/other/\" +filename)\n",
    "            if choice == 1:\n",
    "                image.save(\"/home/jszumny/Documents/copy of smoke data/newnew/attempts/3features/val/other/\" +filename)\n",
    "        \n",
    "    else:\n",
    "        image.save(\"/home/jszumny/Documents/copy of smoke data/newnew/attempts/3features/test/other/\" +filename)"
   ]
  },
  {
   "cell_type": "code",
   "execution_count": 9,
   "metadata": {},
   "outputs": [],
   "source": [
    "directory = \"/home/jszumny/Documents/copy of smoke data/newnew/newhorizon/\"\n",
    "\n",
    "for filename in os.listdir(directory):\n",
    "\n",
    "    f = filename[:filename.find(\"_1\")]\n",
    "    image = Image.open(directory + filename)\n",
    "\n",
    "    if f not in list:\n",
    "        choice1 = random.choice([0,1])\n",
    "        if choice1 == 0:\n",
    "            choice = random.choice([0,0,0,0,0,0,0,0,1,1])\n",
    "            \n",
    "            if choice == 0:\n",
    "                image.save(\"/home/jszumny/Documents/copy of smoke data/newnew/attempts/3features/train/other/\" +filename)\n",
    "            if choice == 1:\n",
    "                image.save(\"/home/jszumny/Documents/copy of smoke data/newnew/attempts/3features/val/other/\" +filename)\n",
    "        \n",
    "    else:\n",
    "        image.save(\"/home/jszumny/Documents/copy of smoke data/newnew/attempts/3features/test/other/\" +filename)"
   ]
  },
  {
   "cell_type": "code",
   "execution_count": 11,
   "metadata": {},
   "outputs": [],
   "source": [
    "directory = \"/home/jszumny/Documents/copy of smoke data/newnew/smoke/\"\n",
    "\n",
    "for filename in os.listdir(directory):\n",
    "\n",
    "    #choice1 = random.choice([1,1,0])\n",
    "    \n",
    "    f = filename[:filename.find(\"_1\")]\n",
    "    image = Image.open(directory + filename)\n",
    "\n",
    "    if f not in list:\n",
    "        choice1 = random.choice([0,0,1])\n",
    "        if choice1 == 0:\n",
    "            choice = random.choice([0,0,0,0,0,0,0,0,1,1])\n",
    "            \n",
    "            if choice == 0:\n",
    "                image.save(\"/home/jszumny/Documents/copy of smoke data/newnew/attempts/3features/train/smoke/\" +filename)\n",
    "            if choice == 1:\n",
    "                image.save(\"/home/jszumny/Documents/copy of smoke data/newnew/attempts/3features/val/smoke/\" +filename)\n",
    "        \n",
    "    else:\n",
    "        image.save(\"/home/jszumny/Documents/copy of smoke data/newnew/attempts/3features/test/smoke/\" +filename)"
   ]
  },
  {
   "cell_type": "code",
   "execution_count": 10,
   "metadata": {},
   "outputs": [],
   "source": [
    "directory = \"/home/jszumny/Documents/copy of smoke data/newnew/cloud/\"\n",
    "\n",
    "for filename in os.listdir(directory):\n",
    "\n",
    "    image = Image.open(directory + filename)\n",
    "\n",
    "    choice = random.choice([0,0,0,0,0,0,0,0,1,1])\n",
    "    \n",
    "    if choice == 0:\n",
    "        image.save(\"/home/jszumny/Documents/copy of smoke data/newnew/attempts/3features/train/cloud/\" +filename)\n",
    "    if choice == 1:\n",
    "        image.save(\"/home/jszumny/Documents/copy of smoke data/newnew/attempts/3features/val/cloud/\" +filename)\n",
    "\n",
    "    "
   ]
  },
  {
   "cell_type": "code",
   "execution_count": 12,
   "metadata": {},
   "outputs": [],
   "source": [
    "directory = \"/home/jszumny/Documents/copy of smoke data/newnew/SWIMxxx/swinyseg/images/\"\n",
    "\n",
    "for filename in os.listdir(directory):\n",
    "\n",
    "    image = Image.open(directory + filename)\n",
    "    choice1 = random.choice([0,0,1])\n",
    "    \n",
    "    if choice1 == 0:\n",
    "        choice = random.choice([0,0,0,0,0,0,0,1,1,2])\n",
    "        \n",
    "        if choice == 0:\n",
    "            image.save(\"/home/jszumny/Documents/copy of smoke data/newnew/attempts/3features/train/cloud/\" +filename)\n",
    "        if choice == 1:\n",
    "            image.save(\"/home/jszumny/Documents/copy of smoke data/newnew/attempts/3features/val/cloud/\" +filename)\n",
    "        if choice == 2:\n",
    "            image.save(\"/home/jszumny/Documents/copy of smoke data/newnew/attempts/3features/test/cloud/\" + filename)"
   ]
  },
  {
   "cell_type": "code",
   "execution_count": null,
   "metadata": {},
   "outputs": [],
   "source": []
  }
 ],
 "metadata": {
  "kernelspec": {
   "display_name": "Python 3",
   "language": "python",
   "name": "python3"
  },
  "language_info": {
   "codemirror_mode": {
    "name": "ipython",
    "version": 3
   },
   "file_extension": ".py",
   "mimetype": "text/x-python",
   "name": "python",
   "nbconvert_exporter": "python",
   "pygments_lexer": "ipython3",
   "version": "3.10.6"
  },
  "orig_nbformat": 4
 },
 "nbformat": 4,
 "nbformat_minor": 2
}
