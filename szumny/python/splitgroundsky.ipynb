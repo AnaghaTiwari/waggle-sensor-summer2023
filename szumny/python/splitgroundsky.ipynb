{
 "cells": [
  {
   "cell_type": "code",
   "execution_count": 9,
   "metadata": {},
   "outputs": [
    {
     "data": {
      "text/plain": [
       "1536"
      ]
     },
     "execution_count": 9,
     "metadata": {},
     "output_type": "execute_result"
    }
   ],
   "source": [
    "from PIL import Image\n",
    "import numpy as np      \n",
    "import pandas as pd  \n",
    "\n",
    "\n",
    "\n",
    "\n",
    "\n",
    "fulldata = pd.read_csv('/home/jszumny/Documents/copy of smoke data/hpwren/python/fulldata.csv')\n",
    "# Opening the image and converting \n",
    "# it to RGB color mode\n",
    "# IMAGE_PATH => Path to the image\n",
    "img = Image.open('/home/jszumny/Documents/copy of smoke data/hpwren/data/hpwren/20160604_FIRE_rm-n-mobo-c/1465065720_+00120.jpg').convert('RGB')\n",
    "  \n",
    "# Extracting the image data &\n",
    "# creating an numpy array out of it\n",
    "img_arr = np.array(img)\n",
    "  \n",
    "# Turning the pixel values of the 400x400 pixels to black \n",
    "img_arr[fulldata[\"ymin\"][0] : fulldata[\"ymax\"][0], fulldata[\"xmin\"][0] : fulldata[\"xmax\"][0]] = (0, 0, 0)\n",
    "  \n",
    "# Creating an image out of the previously modified array\n",
    "img = Image.fromarray(img_arr)\n",
    "  \n",
    "# Displaying the image\n",
    "img.show()\n",
    "\n",
    "img.size[1]"
   ]
  },
  {
   "cell_type": "code",
   "execution_count": 10,
   "metadata": {},
   "outputs": [
    {
     "ename": "KeyboardInterrupt",
     "evalue": "",
     "output_type": "error",
     "traceback": [
      "\u001b[0;31m---------------------------------------------------------------------------\u001b[0m",
      "\u001b[0;31mKeyboardInterrupt\u001b[0m                         Traceback (most recent call last)",
      "\u001b[0;32m/tmp/ipykernel_1392675/3400370984.py\u001b[0m in \u001b[0;36m<module>\u001b[0;34m\u001b[0m\n\u001b[1;32m     31\u001b[0m             \u001b[0mimg2\u001b[0m \u001b[0;34m=\u001b[0m \u001b[0mimg\u001b[0m\u001b[0;34m.\u001b[0m\u001b[0mcrop\u001b[0m\u001b[0;34m(\u001b[0m\u001b[0;34m(\u001b[0m\u001b[0mfulldata\u001b[0m\u001b[0;34m[\u001b[0m\u001b[0;34m\"xmax\"\u001b[0m\u001b[0;34m]\u001b[0m\u001b[0;34m[\u001b[0m\u001b[0mi\u001b[0m\u001b[0;34m]\u001b[0m\u001b[0;34m,\u001b[0m \u001b[0;36m0\u001b[0m\u001b[0;34m,\u001b[0m \u001b[0mimg\u001b[0m\u001b[0;34m.\u001b[0m\u001b[0msize\u001b[0m\u001b[0;34m[\u001b[0m\u001b[0;36m0\u001b[0m\u001b[0;34m]\u001b[0m\u001b[0;34m,\u001b[0m \u001b[0mimg\u001b[0m\u001b[0;34m.\u001b[0m\u001b[0msize\u001b[0m\u001b[0;34m[\u001b[0m\u001b[0;36m1\u001b[0m\u001b[0;34m]\u001b[0m\u001b[0;34m)\u001b[0m\u001b[0;34m)\u001b[0m\u001b[0;34m\u001b[0m\u001b[0;34m\u001b[0m\u001b[0m\n\u001b[1;32m     32\u001b[0m         \u001b[0;32melse\u001b[0m\u001b[0;34m:\u001b[0m\u001b[0;34m\u001b[0m\u001b[0;34m\u001b[0m\u001b[0m\n\u001b[0;32m---> 33\u001b[0;31m             \u001b[0mimg2\u001b[0m \u001b[0;34m=\u001b[0m \u001b[0mimg\u001b[0m\u001b[0;34m.\u001b[0m\u001b[0mcrop\u001b[0m\u001b[0;34m(\u001b[0m\u001b[0;34m(\u001b[0m\u001b[0;36m0\u001b[0m\u001b[0;34m,\u001b[0m \u001b[0;36m100\u001b[0m\u001b[0;34m,\u001b[0m \u001b[0mfulldata\u001b[0m\u001b[0;34m[\u001b[0m\u001b[0;34m\"xmin\"\u001b[0m\u001b[0;34m]\u001b[0m\u001b[0;34m[\u001b[0m\u001b[0mi\u001b[0m\u001b[0;34m]\u001b[0m\u001b[0;34m,\u001b[0m \u001b[0mimg\u001b[0m\u001b[0;34m.\u001b[0m\u001b[0msize\u001b[0m\u001b[0;34m[\u001b[0m\u001b[0;36m1\u001b[0m\u001b[0;34m]\u001b[0m\u001b[0;34m)\u001b[0m\u001b[0;34m)\u001b[0m\u001b[0;34m\u001b[0m\u001b[0;34m\u001b[0m\u001b[0m\n\u001b[0m\u001b[1;32m     34\u001b[0m \u001b[0;34m\u001b[0m\u001b[0m\n\u001b[1;32m     35\u001b[0m         \u001b[0mimg2\u001b[0m\u001b[0;34m.\u001b[0m\u001b[0msave\u001b[0m\u001b[0;34m(\u001b[0m\u001b[0;34m'/home/jszumny/Documents/copy of smoke data/newnew/ground+sky+nosmoke'\u001b[0m \u001b[0;34m+\u001b[0m \u001b[0mfolder\u001b[0m \u001b[0;34m+\u001b[0m \u001b[0;34m\"_\"\u001b[0m \u001b[0;34m+\u001b[0m \u001b[0mfilename\u001b[0m \u001b[0;34m+\u001b[0m \u001b[0;34m\"_\"\u001b[0m \u001b[0;34m+\u001b[0m \u001b[0mfulldata\u001b[0m\u001b[0;34m[\u001b[0m\u001b[0;34m\"type\"\u001b[0m\u001b[0;34m]\u001b[0m\u001b[0;34m[\u001b[0m\u001b[0mi\u001b[0m\u001b[0;34m]\u001b[0m \u001b[0;34m+\u001b[0m \u001b[0;34m\"_sky+ground.jpg\"\u001b[0m\u001b[0;34m)\u001b[0m\u001b[0;34m\u001b[0m\u001b[0;34m\u001b[0m\u001b[0m\n",
      "\u001b[0;32m~/.local/lib/python3.10/site-packages/PIL/Image.py\u001b[0m in \u001b[0;36mcrop\u001b[0;34m(self, box)\u001b[0m\n\u001b[1;32m   1134\u001b[0m             \u001b[0;32mreturn\u001b[0m \u001b[0mself\u001b[0m\u001b[0;34m.\u001b[0m\u001b[0mcopy\u001b[0m\u001b[0;34m(\u001b[0m\u001b[0;34m)\u001b[0m\u001b[0;34m\u001b[0m\u001b[0;34m\u001b[0m\u001b[0m\n\u001b[1;32m   1135\u001b[0m \u001b[0;34m\u001b[0m\u001b[0m\n\u001b[0;32m-> 1136\u001b[0;31m         \u001b[0mself\u001b[0m\u001b[0;34m.\u001b[0m\u001b[0mload\u001b[0m\u001b[0;34m(\u001b[0m\u001b[0;34m)\u001b[0m\u001b[0;34m\u001b[0m\u001b[0;34m\u001b[0m\u001b[0m\n\u001b[0m\u001b[1;32m   1137\u001b[0m         \u001b[0;32mreturn\u001b[0m \u001b[0mself\u001b[0m\u001b[0;34m.\u001b[0m\u001b[0m_new\u001b[0m\u001b[0;34m(\u001b[0m\u001b[0mself\u001b[0m\u001b[0;34m.\u001b[0m\u001b[0m_crop\u001b[0m\u001b[0;34m(\u001b[0m\u001b[0mself\u001b[0m\u001b[0;34m.\u001b[0m\u001b[0mim\u001b[0m\u001b[0;34m,\u001b[0m \u001b[0mbox\u001b[0m\u001b[0;34m)\u001b[0m\u001b[0;34m)\u001b[0m\u001b[0;34m\u001b[0m\u001b[0;34m\u001b[0m\u001b[0m\n\u001b[1;32m   1138\u001b[0m \u001b[0;34m\u001b[0m\u001b[0m\n",
      "\u001b[0;32m~/.local/lib/python3.10/site-packages/PIL/ImageFile.py\u001b[0m in \u001b[0;36mload\u001b[0;34m(self)\u001b[0m\n\u001b[1;32m    259\u001b[0m \u001b[0;34m\u001b[0m\u001b[0m\n\u001b[1;32m    260\u001b[0m                             \u001b[0mb\u001b[0m \u001b[0;34m=\u001b[0m \u001b[0mb\u001b[0m \u001b[0;34m+\u001b[0m \u001b[0ms\u001b[0m\u001b[0;34m\u001b[0m\u001b[0;34m\u001b[0m\u001b[0m\n\u001b[0;32m--> 261\u001b[0;31m                             \u001b[0mn\u001b[0m\u001b[0;34m,\u001b[0m \u001b[0merr_code\u001b[0m \u001b[0;34m=\u001b[0m \u001b[0mdecoder\u001b[0m\u001b[0;34m.\u001b[0m\u001b[0mdecode\u001b[0m\u001b[0;34m(\u001b[0m\u001b[0mb\u001b[0m\u001b[0;34m)\u001b[0m\u001b[0;34m\u001b[0m\u001b[0;34m\u001b[0m\u001b[0m\n\u001b[0m\u001b[1;32m    262\u001b[0m                             \u001b[0;32mif\u001b[0m \u001b[0mn\u001b[0m \u001b[0;34m<\u001b[0m \u001b[0;36m0\u001b[0m\u001b[0;34m:\u001b[0m\u001b[0;34m\u001b[0m\u001b[0;34m\u001b[0m\u001b[0m\n\u001b[1;32m    263\u001b[0m                                 \u001b[0;32mbreak\u001b[0m\u001b[0;34m\u001b[0m\u001b[0;34m\u001b[0m\u001b[0m\n",
      "\u001b[0;31mKeyboardInterrupt\u001b[0m: "
     ]
    }
   ],
   "source": [
    "directory = '/home/jszumny/Documents/copy of smoke data/hpwren/data/hpwren'\n",
    "\n",
    "for i in range(len(fulldata)):\n",
    "    folder = str(fulldata[\"folder\"][i])\n",
    "    folder = folder[folder.find(\"/\"):]\n",
    "\n",
    "    filename = str(fulldata[\"filename\"][i])\n",
    "    filename = filename[:filename.find(\".jpg\")]\n",
    "    \n",
    "    if folder == \"/20200611-skyline-lp-n-mobo-c\":\n",
    "        folder = \"/20200611_skyline_lp-n-mobo-c\"\n",
    "    if folder == \"/20200608-FIRE-rm-w-mobo-c\":\n",
    "        folder = \"/20200608_FIRE_rm-w-mobo-c\"\n",
    "    if folder == \"/20200614-DrumCanyon-syp-w-mobo-c\":\n",
    "        folder = \"/20200614_DrumCanyon_syp-w-mobo-c\"\n",
    "    if folder == \"/20200709-Tripp-hp-n-mobo-c\":\n",
    "        folder = \"/20200709_Tripp_hp-n-mobo-c\"\n",
    "    if folder == \"/20200705-FIRE-bm-w-mobo-c\":\n",
    "        folder = \"/20200705_FIRE_bm-w-mobo-c\"\n",
    "    if folder == \"/20200705-FIRE-wc-n-mobo-c\":\n",
    "        folder = \"/20200705_FIRE_wc-n-mobo-c\"\n",
    "    if folder == \"/20200618-FIRE-om-w-mobo-c\":\n",
    "        folder = \"/20200618_FIRE_om-w-mobo-c\"\n",
    "    if folder == \"/20200615-Rainbow-rm-e-mobo-c\":\n",
    "        folder = \"/20200615_Rainbow_rm-e-mobo-c\"\n",
    "    \n",
    "   \n",
    "    img = Image.open(directory + folder +\"/\" + fulldata[\"filename\"][i])\n",
    "    if((fulldata[\"xmin\"][i]!= 0) & (fulldata[\"xmax\"][i]!= img.size[0])):\n",
    "        if fulldata[\"xmin\"][i] <= img.size[0]/2:\n",
    "            img2 = img.crop((fulldata[\"xmax\"][i], 0, img.size[0], img.size[1]))\n",
    "        else:\n",
    "            img2 = img.crop((0, 100, fulldata[\"xmin\"][i], img.size[1]))\n",
    "\n",
    "        img2.save('/home/jszumny/Documents/copy of smoke data/newnew/ground+sky+nosmoke' + folder + \"_\" + filename + \"_\" + fulldata[\"type\"][i] + \"_sky+ground.jpg\")"
   ]
  },
  {
   "cell_type": "code",
   "execution_count": 16,
   "metadata": {},
   "outputs": [],
   "source": [
    "import os\n",
    "directory = '/home/jszumny/Documents/copy of smoke data/newnew/ground+sky+nosmoke/'\n",
    "happened = []\n",
    "for filename in os.listdir(directory):\n",
    "\n",
    "    folder = filename[:filename.find(\"_1\")]\n",
    "    happened.append(folder)\n",
    "\n",
    "    if(happened.count(folder) <= 1):\n",
    "        image = Image.open(directory + filename)\n",
    "\n",
    "        filename = filename[:filename.find(\"sky+ground.jpg\")]\n",
    "        new_image = image.resize((2200, 1600))\n",
    "\n",
    "\n",
    "        horizon_cropped = new_image.crop((200, 640, (new_image.size[0]-200), 960))\n",
    "\n",
    "        for i in range(2):\n",
    "            sky_cropped = new_image.crop((200, (i*320), (new_image.size[0]-200), ((i+1)*320)))\n",
    "            ground_cropped = new_image.crop(( 200, ((i+3)*320), (new_image.size[0]-200), ((i+4)*320) ))\n",
    "            \n",
    "            for j in range(6):\n",
    "                \n",
    "                xcropsky = sky_cropped.crop(((j*300), 0, ((j+1)*300), 320))\n",
    "                xcrophorizon = horizon_cropped.crop(((j*300), 0, ((j+1)*300), 320))\n",
    "                xcropground = ground_cropped.crop(((j*300), 0, ((j+1)*300), 320))\n",
    "                \n",
    "                sky_resized = xcropsky.resize((224,224))\n",
    "                horizon_resized = xcrophorizon.resize((224,224))\n",
    "                ground_resized = xcropground.resize((224,224))\n",
    "\n",
    "                sky_resized.save('/home/jszumny/Documents/copy of smoke data/newnew/newsky/'+ filename + \"sky_\" + str(i +1) + \"_\" + str(j+1) + \".jpg\")\n",
    "                ground_resized.save('/home/jszumny/Documents/copy of smoke data/newnew/newground/'+ filename + \"ground_\" + str(i+1)+ \"_\" + str(j+1) + \".jpg\")\n",
    "                horizon_resized.save('/home/jszumny/Documents/copy of smoke data/newnew/newhorizon/'+ filename + \"horizon_\" + str(j+1) + \".jpg\") \n"
   ]
  },
  {
   "cell_type": "code",
   "execution_count": 26,
   "metadata": {},
   "outputs": [],
   "source": [
    "import os\n",
    "import random\n",
    "directory = '/home/jszumny/Documents/copy of smoke data/newnew/smoke/'\n",
    "\n",
    "for filename in os.listdir(directory):\n",
    "\n",
    "    image = Image.open(directory + filename)\n",
    "    choice = random.choice([0,0,0,0,0,0,0,0,1,1])\n",
    "\n",
    "    if choice == 0:\n",
    "        two = random.choice([0,0,0,0,0,0,0,1,1,2])\n",
    "\n",
    "        if two == 0:\n",
    "            image.save('/home/jszumny/Documents/copy of smoke data/newnew/attempts/othervssmoke/train/smoke/' + filename)\n",
    "        if two == 1:\n",
    "            image.save('/home/jszumny/Documents/copy of smoke data/newnew/attempts/othervssmoke/val/smoke/' + filename)\n",
    "        if two == 2:\n",
    "            image.save('/home/jszumny/Documents/copy of smoke data/newnew/attempts/othervssmoke/test/smoke/' + filename)\n"
   ]
  },
  {
   "cell_type": "code",
   "execution_count": 27,
   "metadata": {},
   "outputs": [],
   "source": [
    "directory = '/home/jszumny/Documents/copy of smoke data/newnew/newground/'\n",
    "\n",
    "for filename in os.listdir(directory):\n",
    "\n",
    "    image = Image.open(directory + filename)\n",
    "    choice = random.choice([0,1])\n",
    "\n",
    "    if choice == 1 or choice == 0:\n",
    "        two = random.choice([0,0,0,0,0,0,0,1,1,2])\n",
    "\n",
    "        if two == 0:\n",
    "            image.save('/home/jszumny/Documents/copy of smoke data/newnew/attempts/othervssmoke/train/other/' + filename)\n",
    "        if two == 1:\n",
    "            image.save('/home/jszumny/Documents/copy of smoke data/newnew/attempts/othervssmoke/val/other/' + filename)\n",
    "        if two == 2:\n",
    "            image.save('/home/jszumny/Documents/copy of smoke data/newnew/attempts/othervssmoke/test/other/' + filename)"
   ]
  },
  {
   "cell_type": "code",
   "execution_count": 28,
   "metadata": {},
   "outputs": [],
   "source": [
    "directory = '/home/jszumny/Documents/copy of smoke data/newnew/newsky/'\n",
    "\n",
    "for filename in os.listdir(directory):\n",
    "\n",
    "    image = Image.open(directory + filename)\n",
    "    choice = random.choice([0,1])\n",
    "    \n",
    "    if choice == 1 or choice == 0:\n",
    "        two = random.choice([0,0,0,0,0,0,0,1,1,2])\n",
    "\n",
    "        if two == 0:\n",
    "            image.save('/home/jszumny/Documents/copy of smoke data/newnew/attempts/othervssmoke/train/other/' + filename)\n",
    "        if two == 1:\n",
    "            image.save('/home/jszumny/Documents/copy of smoke data/newnew/attempts/othervssmoke/val/other/' + filename)\n",
    "        if two == 2:\n",
    "            image.save('/home/jszumny/Documents/copy of smoke data/newnew/attempts/othervssmoke/test/other/' + filename)"
   ]
  },
  {
   "cell_type": "code",
   "execution_count": 29,
   "metadata": {},
   "outputs": [],
   "source": [
    "directory = '/home/jszumny/Documents/copy of smoke data/newnew/newhorizon/'\n",
    "\n",
    "for filename in os.listdir(directory):\n",
    "\n",
    "    image = Image.open(directory + filename)\n",
    "    \n",
    "    two = random.choice([0,0,0,0,0,0,0,1,1,2])\n",
    "\n",
    "    if two == 0:\n",
    "        image.save('/home/jszumny/Documents/copy of smoke data/newnew/attempts/othervssmoke/train/other/' + filename)\n",
    "    if two == 1:\n",
    "        image.save('/home/jszumny/Documents/copy of smoke data/newnew/attempts/othervssmoke/val/other/' + filename)\n",
    "    if two == 2:\n",
    "        image.save('/home/jszumny/Documents/copy of smoke data/newnew/attempts/othervssmoke/test/other/' + filename)"
   ]
  },
  {
   "cell_type": "code",
   "execution_count": null,
   "metadata": {},
   "outputs": [
    {
     "name": "stderr",
     "output_type": "stream",
     "text": [
      "2023-06-08 14:45:41.926133: I tensorflow/tsl/cuda/cudart_stub.cc:28] Could not find cuda drivers on your machine, GPU will not be used.\n",
      "2023-06-08 14:45:41.974667: I tensorflow/tsl/cuda/cudart_stub.cc:28] Could not find cuda drivers on your machine, GPU will not be used.\n",
      "2023-06-08 14:45:41.980084: I tensorflow/core/platform/cpu_feature_guard.cc:182] This TensorFlow binary is optimized to use available CPU instructions in performance-critical operations.\n",
      "To enable the following instructions: AVX2 FMA, in other operations, rebuild TensorFlow with the appropriate compiler flags.\n",
      "2023-06-08 14:45:45.364361: W tensorflow/compiler/tf2tensorrt/utils/py_utils.cc:38] TF-TRT Warning: Could not find TensorRT\n"
     ]
    }
   ],
   "source": [
    "import keras,os"
   ]
  },
  {
   "cell_type": "code",
   "execution_count": null,
   "metadata": {},
   "outputs": [],
   "source": [
    "directory = '/home/jszumny/Documents/copy of smoke data/hpwren/newnew/smoke/'\n",
    "\n",
    "for filename in os.listdir(directory):\n",
    "    img = Image.open(directory + filename)\n",
    "    if fulldata[\"xmin\"][i] <= img.size[0]/2:\n",
    "        img2 = img.crop((fulldata[\"xmax\"][i] + 250, 0, img.size[0], img.size[1]))\n",
    "    else:\n",
    "        img2 = img.crop((0, 100, fulldata[\"xmin\"][i]-250, img.size[1]))\n",
    "\n",
    "    imgsky = img2.crop((0, 0, img2.size[0], img2.size[1]-1050))\n",
    "    imgground = img2.crop((0, 1000, img2.size[0], img2.size[1]))\n",
    "    imgsky.save('/home/jszumny/Documents/copy of smoke data/hpwren/sky/sky_' + str(i) + \".jpg\")\n",
    "    imgground.save('/home/jszumny/Documents/copy of smoke data/hpwren/ground/ground_' + str(i) + \".jpg\")"
   ]
  }
 ],
 "metadata": {
  "kernelspec": {
   "display_name": "Python 3",
   "language": "python",
   "name": "python3"
  },
  "language_info": {
   "codemirror_mode": {
    "name": "ipython",
    "version": 3
   },
   "file_extension": ".py",
   "mimetype": "text/x-python",
   "name": "python",
   "nbconvert_exporter": "python",
   "pygments_lexer": "ipython3",
   "version": "3.10.6"
  },
  "orig_nbformat": 4
 },
 "nbformat": 4,
 "nbformat_minor": 2
}
