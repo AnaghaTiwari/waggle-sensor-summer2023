{
 "cells": [
  {
   "cell_type": "code",
   "execution_count": 4,
   "metadata": {},
   "outputs": [],
   "source": [
    "# import required image module\n",
    "from PIL import Image\n",
    "\n",
    "# Open an already existing image\n",
    "imageObject = Image.open(\"/home/jszumny/Documents/copy of smoke data/newnew/newground/20160604_FIRE_rm-n-mobo-c_1465067820_+02220_lpbb_ground_1_1.jpg\")\n",
    "\n",
    "# Do a flip of left and right\n",
    "hori_flippedImage = imageObject.transpose(Image.FLIP_LEFT_RIGHT)\n",
    "\n",
    "# Show the original image\n",
    "imageObject.show()\n",
    "\n",
    "# Show the horizontal flipped image\n",
    "hori_flippedImage.show()\n",
    "\n",
    "degree_flippedImage = imageObject.transpose(Image.ROTATE_180)\n",
    "degree_flippedImage.show()"
   ]
  },
  {
   "cell_type": "code",
   "execution_count": 4,
   "metadata": {},
   "outputs": [],
   "source": [
    "import os\n",
    "import random\n",
    "from PIL import Image"
   ]
  },
  {
   "cell_type": "code",
   "execution_count": 9,
   "metadata": {},
   "outputs": [],
   "source": [
    "directory = \"/home/jszumny/Documents/copy of smoke data/newnew/newground/\"\n",
    "for filename in os.listdir(directory):\n",
    "    choice = random.choice([1,2])\n",
    "    imageObject = Image.open(directory + filename)\n",
    "\n",
    "    if choice == 1:\n",
    "        augImage = imageObject.transpose(Image.FLIP_LEFT_RIGHT)\n",
    "        filename2 = filename[:filename.find(\".jpg\")]\n",
    "        filename2 = filename2 + \"_flipped.jpg\"\n",
    "    if choice == 2:\n",
    "        augImage = imageObject.transpose(Image.ROTATE_180)\n",
    "        filename2 = filename[:filename.find(\".jpg\")]\n",
    "        filename2 = filename2 + \"_rotated.jpg\"\n",
    "    \n",
    "    augImage.save(directory + filename2)"
   ]
  },
  {
   "cell_type": "code",
   "execution_count": 11,
   "metadata": {},
   "outputs": [],
   "source": [
    "directory = \"/home/jszumny/Documents/copy of smoke data/newnew/newhorizon/\"\n",
    "for filename in os.listdir(directory):\n",
    "    \n",
    "    imageObject = Image.open(directory + filename)\n",
    "\n",
    "    augImage = imageObject.transpose(Image.FLIP_LEFT_RIGHT)\n",
    "    filename2 = filename[:filename.find(\".jpg\")]\n",
    "    filename2 = filename2 + \"_flipped.jpg\"\n",
    "\n",
    "    augImage1 = imageObject.transpose(Image.ROTATE_180)\n",
    "    filename21 = filename[:filename.find(\".jpg\")]\n",
    "    filename21 = filename21 + \"_rotated.jpg\"\n",
    "    \n",
    "    augImage.save(directory + filename2)\n",
    "    augImage1.save(directory + filename21)"
   ]
  },
  {
   "cell_type": "code",
   "execution_count": 12,
   "metadata": {},
   "outputs": [],
   "source": [
    "directory = \"/home/jszumny/Documents/copy of smoke data/newnew/newsky/\"\n",
    "for filename in os.listdir(directory):\n",
    "    choice = random.choice([1,2])\n",
    "    imageObject = Image.open(directory + filename)\n",
    "\n",
    "    if choice == 1:\n",
    "        augImage = imageObject.transpose(Image.FLIP_LEFT_RIGHT)\n",
    "        filename2 = filename[:filename.find(\".jpg\")]\n",
    "        filename2 = filename2 + \"_flipped.jpg\"\n",
    "    if choice == 2:\n",
    "        augImage = imageObject.transpose(Image.ROTATE_180)\n",
    "        filename2 = filename[:filename.find(\".jpg\")]\n",
    "        filename2 = filename2 + \"_rotated.jpg\"\n",
    "    \n",
    "    augImage.save(directory + filename2)"
   ]
  },
  {
   "cell_type": "code",
   "execution_count": 18,
   "metadata": {},
   "outputs": [],
   "source": [
    "directory = \"/home/jszumny/Documents/copy of smoke data/newnew/cloud/\"\n",
    "for filename in os.listdir(directory):\n",
    "    \n",
    "    imageObject = Image.open(directory + filename)\n",
    "\n",
    "    augImage = imageObject.transpose(Image.FLIP_LEFT_RIGHT)\n",
    "    filename2 = filename[:filename.find(\".jpg\")]\n",
    "    filename2 = filename2 + \"_flipped.jpg\"\n",
    "\n",
    "    augImage1 = imageObject.transpose(Image.ROTATE_90)\n",
    "    filename21 = filename[:filename.find(\".jpg\")]\n",
    "    filename21 = filename21 + \"_rotated.jpg\"\n",
    "\n",
    "    augImage2 = imageObject.transpose(Image.ROTATE_270)\n",
    "    filename22 = filename[:filename.find(\".jpg\")]\n",
    "    filename22 = filename22 + \"_rotated2.jpg\"\n",
    "\n",
    "    augImage.save(directory + filename2)\n",
    "    augImage1.save(directory + filename21)\n",
    "    augImage2.save(directory + filename22)"
   ]
  },
  {
   "cell_type": "code",
   "execution_count": 17,
   "metadata": {},
   "outputs": [],
   "source": [
    "directory = \"/home/jszumny/Documents/copy of smoke data/newnew/cloud/\"\n",
    "for filename in os.listdir(directory):\n",
    "    \n",
    "    imageObject = Image.open(directory + filename)\n",
    "    filename = filename[:filename.find(\".jpg\")]\n",
    "    cloud1 = imageObject.crop((0, 0, imageObject.size[0] / 2, imageObject.size[1] / 2))\n",
    "    cloud2 = imageObject.crop((imageObject.size[0] / 2, 0, imageObject.size[0], imageObject.size[1] / 2))\n",
    "    cloud3 = imageObject.crop((0, imageObject.size[1] / 2, imageObject.size[0] / 2, imageObject.size[1]))\n",
    "    cloud4 = imageObject.crop((imageObject.size[0] / 2, imageObject.size[1] / 2, imageObject.size[0], imageObject.size[1]))\n",
    "\n",
    "    cloud1.save(directory + filename + \"_1.jpg\")\n",
    "    cloud2.save(directory + filename + \"_2.jpg\")\n",
    "    cloud3.save(directory + filename + \"_3.jpg\")\n",
    "    cloud4.save(directory + filename + \"_4\")\n",
    "    \n"
   ]
  },
  {
   "cell_type": "code",
   "execution_count": null,
   "metadata": {},
   "outputs": [],
   "source": [
    "directory = \"/home/jszumny/Documents/copy of smoke data/newnew/cloud/\"\n",
    "for filename in os.listdir(directory):\n",
    "    \n",
    "    imageObject = Image.open(directory + filename)\n",
    "    filename = filename[:filename.find(\".jpg\")]\n",
    "    cloud1 = imageObject.crop((0, 0, imageObject.size[0] / 2, imageObject.size[1] / 2))\n",
    "    cloud2 = imageObject.crop((imageObject.size[0] / 2, 0, imageObject.size[0], imageObject.size[1] / 2))\n",
    "    cloud3 = imageObject.crop((0, imageObject.size[1] / 2, imageObject.size[0] / 2, imageObject.size[1]))\n",
    "    cloud4 = imageObject.crop((imageObject.size[0] / 2, imageObject.size[1] / 2, imageObject.size[0], imageObject.size[1]))\n",
    "\n",
    "    cloud1.save(directory + filename + \"_1.jpg\")\n",
    "    cloud2.save(directory + filename + \"_2.jpg\")\n",
    "    cloud3.save(directory + filename + \"_3.jpg\")\n",
    "    cloud4.save(directory + filename + \"_4.jpg\")\n",
    "    "
   ]
  }
 ],
 "metadata": {
  "kernelspec": {
   "display_name": "Python 3",
   "language": "python",
   "name": "python3"
  },
  "language_info": {
   "codemirror_mode": {
    "name": "ipython",
    "version": 3
   },
   "file_extension": ".py",
   "mimetype": "text/x-python",
   "name": "python",
   "nbconvert_exporter": "python",
   "pygments_lexer": "ipython3",
   "version": "3.10.6"
  },
  "orig_nbformat": 4
 },
 "nbformat": 4,
 "nbformat_minor": 2
}
