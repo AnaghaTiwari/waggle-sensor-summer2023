{
 "cells": [
  {
   "cell_type": "code",
   "execution_count": 4,
   "metadata": {},
   "outputs": [],
   "source": [
    "# import required image module\n",
    "from PIL import Image\n",
    "\n",
    "# Open an already existing image\n",
    "imageObject = Image.open(\"/home/jszumny/Documents/copy of smoke data/newnew/newground/20160604_FIRE_rm-n-mobo-c_1465067820_+02220_lpbb_ground_1_1.jpg\")\n",
    "\n",
    "# Do a flip of left and right\n",
    "hori_flippedImage = imageObject.transpose(Image.FLIP_LEFT_RIGHT)\n",
    "\n",
    "# Show the original image\n",
    "imageObject.show()\n",
    "\n",
    "# Show the horizontal flipped image\n",
    "hori_flippedImage.show()\n",
    "\n",
    "degree_flippedImage = imageObject.transpose(Image.ROTATE_180)\n",
    "degree_flippedImage.show()"
   ]
  },
  {
   "cell_type": "code",
   "execution_count": 7,
   "metadata": {},
   "outputs": [],
   "source": [
    "import os\n",
    "import random"
   ]
  },
  {
   "cell_type": "code",
   "execution_count": 9,
   "metadata": {},
   "outputs": [],
   "source": [
    "directory = \"/home/jszumny/Documents/copy of smoke data/newnew/newground/\"\n",
    "for filename in os.listdir(directory):\n",
    "    choice = random.choice([1,2])\n",
    "    imageObject = Image.open(directory + filename)\n",
    "\n",
    "    if choice == 1:\n",
    "        augImage = imageObject.transpose(Image.FLIP_LEFT_RIGHT)\n",
    "        filename2 = filename[:filename.find(\".jpg\")]\n",
    "        filename2 = filename2 + \"_flipped.jpg\"\n",
    "    if choice == 2:\n",
    "        augImage = imageObject.transpose(Image.ROTATE_180)\n",
    "        filename2 = filename[:filename.find(\".jpg\")]\n",
    "        filename2 = filename2 + \"_rotated.jpg\"\n",
    "    \n",
    "    augImage.save(directory + filename2)"
   ]
  },
  {
   "cell_type": "code",
   "execution_count": 11,
   "metadata": {},
   "outputs": [],
   "source": [
    "directory = \"/home/jszumny/Documents/copy of smoke data/newnew/newhorizon/\"\n",
    "for filename in os.listdir(directory):\n",
    "    \n",
    "    imageObject = Image.open(directory + filename)\n",
    "\n",
    "    augImage = imageObject.transpose(Image.FLIP_LEFT_RIGHT)\n",
    "    filename2 = filename[:filename.find(\".jpg\")]\n",
    "    filename2 = filename2 + \"_flipped.jpg\"\n",
    "\n",
    "    augImage1 = imageObject.transpose(Image.ROTATE_180)\n",
    "    filename21 = filename[:filename.find(\".jpg\")]\n",
    "    filename21 = filename21 + \"_rotated.jpg\"\n",
    "    \n",
    "    augImage.save(directory + filename2)\n",
    "    augImage1.save(directory + filename21)"
   ]
  },
  {
   "cell_type": "code",
   "execution_count": 12,
   "metadata": {},
   "outputs": [],
   "source": [
    "directory = \"/home/jszumny/Documents/copy of smoke data/newnew/newsky/\"\n",
    "for filename in os.listdir(directory):\n",
    "    choice = random.choice([1,2])\n",
    "    imageObject = Image.open(directory + filename)\n",
    "\n",
    "    if choice == 1:\n",
    "        augImage = imageObject.transpose(Image.FLIP_LEFT_RIGHT)\n",
    "        filename2 = filename[:filename.find(\".jpg\")]\n",
    "        filename2 = filename2 + \"_flipped.jpg\"\n",
    "    if choice == 2:\n",
    "        augImage = imageObject.transpose(Image.ROTATE_180)\n",
    "        filename2 = filename[:filename.find(\".jpg\")]\n",
    "        filename2 = filename2 + \"_rotated.jpg\"\n",
    "    \n",
    "    augImage.save(directory + filename2)"
   ]
  },
  {
   "cell_type": "code",
   "execution_count": null,
   "metadata": {},
   "outputs": [],
   "source": []
  }
 ],
 "metadata": {
  "kernelspec": {
   "display_name": "Python 3",
   "language": "python",
   "name": "python3"
  },
  "language_info": {
   "codemirror_mode": {
    "name": "ipython",
    "version": 3
   },
   "file_extension": ".py",
   "mimetype": "text/x-python",
   "name": "python",
   "nbconvert_exporter": "python",
   "pygments_lexer": "ipython3",
   "version": "3.10.6"
  },
  "orig_nbformat": 4
 },
 "nbformat": 4,
 "nbformat_minor": 2
}
